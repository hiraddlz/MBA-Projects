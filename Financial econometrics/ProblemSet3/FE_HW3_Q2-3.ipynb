{
  "nbformat": 4,
  "nbformat_minor": 0,
  "metadata": {
    "colab": {
      "name": "FE-HW3-Q2.ipynb",
      "provenance": []
    },
    "kernelspec": {
      "name": "python3",
      "display_name": "Python 3"
    },
    "language_info": {
      "name": "python"
    }
  },
  "cells": [
    {
      "cell_type": "code",
      "metadata": {
        "id": "V6br8pNd7REd"
      },
      "source": [
        "%%capture\n",
        "!pip install khayyam"
      ],
      "execution_count": null,
      "outputs": []
    },
    {
      "cell_type": "code",
      "metadata": {
        "colab": {
          "base_uri": "https://localhost:8080/"
        },
        "id": "-ahvpbT15gq4",
        "outputId": "2271a062-28c4-4844-fa65-6d3e3388fe44"
      },
      "source": [
        "import pandas as pd\n",
        "import numpy as np\n",
        "from matplotlib import pyplot as plt\n",
        "from khayyam import *\n",
        "from datetime import date, datetime\n",
        "import statsmodels.api as sm"
      ],
      "execution_count": null,
      "outputs": [
        {
          "output_type": "stream",
          "text": [
            "/usr/local/lib/python3.7/dist-packages/statsmodels/tools/_testing.py:19: FutureWarning: pandas.util.testing is deprecated. Use the functions in the public API at pandas.testing instead.\n",
            "  import pandas.util.testing as tm\n"
          ],
          "name": "stderr"
        }
      ]
    },
    {
      "cell_type": "code",
      "metadata": {
        "id": "FERtqH1IF4qo"
      },
      "source": [
        "IndexData = pd.read_html('IndexData.xls')[0]"
      ],
      "execution_count": null,
      "outputs": []
    },
    {
      "cell_type": "markdown",
      "metadata": {
        "id": "R0KIl1zVNpCc"
      },
      "source": [
        "# Vared Kardane Shakhes"
      ]
    },
    {
      "cell_type": "markdown",
      "metadata": {
        "id": "ryXdMv61K6Yn"
      },
      "source": [
        "Paksazi dadehaye shakhes:"
      ]
    },
    {
      "cell_type": "code",
      "metadata": {
        "id": "ohCbfW5vF4g9"
      },
      "source": [
        "IndexData.drop_duplicates(inplace=True)\n",
        "IndexData = IndexData.sort_values(by='dateissue')\n",
        "IndexData['dateissue'] = IndexData['dateissue'].astype('str')"
      ],
      "execution_count": null,
      "outputs": []
    },
    {
      "cell_type": "markdown",
      "metadata": {
        "id": "1XahWOLBLCTk"
      },
      "source": [
        "Joda kardane sal va mah:"
      ]
    },
    {
      "cell_type": "code",
      "metadata": {
        "id": "3DMf4DrwF4bo"
      },
      "source": [
        "IndexData['Year/Month'] = IndexData['dateissue'].apply(lambda x: x[:4]+'/'+x[4:6])"
      ],
      "execution_count": null,
      "outputs": []
    },
    {
      "cell_type": "markdown",
      "metadata": {
        "id": "wjhG3kZFLGey"
      },
      "source": [
        "Mohasebe return mahane:"
      ]
    },
    {
      "cell_type": "code",
      "metadata": {
        "id": "bKuL73kkIxP3"
      },
      "source": [
        "IndexData = IndexData.groupby('Year/Month').mean()\n",
        "IndexData = IndexData.pct_change()\n",
        "IndexData = IndexData.rename(columns={'Value': 'Index Montly Return'})"
      ],
      "execution_count": null,
      "outputs": []
    },
    {
      "cell_type": "code",
      "metadata": {
        "colab": {
          "base_uri": "https://localhost:8080/",
          "height": 450
        },
        "id": "JjR5mAYvF4Uf",
        "outputId": "3f0f830f-72f5-45a9-f1c4-2c8cdd04a686"
      },
      "source": [
        "IndexData"
      ],
      "execution_count": null,
      "outputs": [
        {
          "output_type": "execute_result",
          "data": {
            "text/html": [
              "<div>\n",
              "<style scoped>\n",
              "    .dataframe tbody tr th:only-of-type {\n",
              "        vertical-align: middle;\n",
              "    }\n",
              "\n",
              "    .dataframe tbody tr th {\n",
              "        vertical-align: top;\n",
              "    }\n",
              "\n",
              "    .dataframe thead th {\n",
              "        text-align: right;\n",
              "    }\n",
              "</style>\n",
              "<table border=\"1\" class=\"dataframe\">\n",
              "  <thead>\n",
              "    <tr style=\"text-align: right;\">\n",
              "      <th></th>\n",
              "      <th>Index Montly Return</th>\n",
              "    </tr>\n",
              "    <tr>\n",
              "      <th>Year/Month</th>\n",
              "      <th></th>\n",
              "    </tr>\n",
              "  </thead>\n",
              "  <tbody>\n",
              "    <tr>\n",
              "      <th>1387/09</th>\n",
              "      <td>NaN</td>\n",
              "    </tr>\n",
              "    <tr>\n",
              "      <th>1387/10</th>\n",
              "      <td>-0.044542</td>\n",
              "    </tr>\n",
              "    <tr>\n",
              "      <th>1387/11</th>\n",
              "      <td>-0.019174</td>\n",
              "    </tr>\n",
              "    <tr>\n",
              "      <th>1387/12</th>\n",
              "      <td>-0.036608</td>\n",
              "    </tr>\n",
              "    <tr>\n",
              "      <th>1388/01</th>\n",
              "      <td>-0.004603</td>\n",
              "    </tr>\n",
              "    <tr>\n",
              "      <th>...</th>\n",
              "      <td>...</td>\n",
              "    </tr>\n",
              "    <tr>\n",
              "      <th>1399/10</th>\n",
              "      <td>-0.077804</td>\n",
              "    </tr>\n",
              "    <tr>\n",
              "      <th>1399/11</th>\n",
              "      <td>-0.085907</td>\n",
              "    </tr>\n",
              "    <tr>\n",
              "      <th>1399/12</th>\n",
              "      <td>-0.007474</td>\n",
              "    </tr>\n",
              "    <tr>\n",
              "      <th>1400/01</th>\n",
              "      <td>0.035180</td>\n",
              "    </tr>\n",
              "    <tr>\n",
              "      <th>1400/02</th>\n",
              "      <td>-0.049175</td>\n",
              "    </tr>\n",
              "  </tbody>\n",
              "</table>\n",
              "<p>150 rows × 1 columns</p>\n",
              "</div>"
            ],
            "text/plain": [
              "            Index Montly Return\n",
              "Year/Month                     \n",
              "1387/09                     NaN\n",
              "1387/10               -0.044542\n",
              "1387/11               -0.019174\n",
              "1387/12               -0.036608\n",
              "1388/01               -0.004603\n",
              "...                         ...\n",
              "1399/10               -0.077804\n",
              "1399/11               -0.085907\n",
              "1399/12               -0.007474\n",
              "1400/01                0.035180\n",
              "1400/02               -0.049175\n",
              "\n",
              "[150 rows x 1 columns]"
            ]
          },
          "metadata": {
            "tags": []
          },
          "execution_count": 7
        }
      ]
    },
    {
      "cell_type": "code",
      "metadata": {
        "colab": {
          "base_uri": "https://localhost:8080/",
          "height": 296
        },
        "id": "Q7pzow9rF4EH",
        "outputId": "157c9533-8661-4306-84dd-83f11e3385f8"
      },
      "source": [
        "IndexData.plot()"
      ],
      "execution_count": null,
      "outputs": [
        {
          "output_type": "execute_result",
          "data": {
            "text/plain": [
              "<matplotlib.axes._subplots.AxesSubplot at 0x7fa02aca2550>"
            ]
          },
          "metadata": {
            "tags": []
          },
          "execution_count": 8
        },
        {
          "output_type": "display_data",
          "data": {
            "image/png": "[encoded data removed]",
            "text/plain": [
              "<Figure size 432x288 with 1 Axes>"
            ]
          },
          "metadata": {
            "tags": [],
            "needs_background": "light"
          }
        }
      ]
    },
    {
      "cell_type": "markdown",
      "metadata": {
        "id": "Yi0uEHJHT8i0"
      },
      "source": [
        "# Vared kardane risk free (akhza)"
      ]
    },
    {
      "cell_type": "code",
      "metadata": {
        "id": "l2jMM0A_T8Eb"
      },
      "source": [
        "indexes = ['1387/05', '1387/06', '1387/07', '1387/08', '1387/09', '1387/10', '1387/11', '1387/12', '1388/01', '1388/02', '1388/03', '1388/04', '1388/05', '1388/06', '1388/07', '1388/08', '1388/09', '1388/10', '1388/11', '1388/12', '1389/01', '1389/02', '1389/03', '1389/04', '1389/05', '1389/06', '1389/07', '1389/08', '1389/09', '1389/10', '1389/11', '1389/12', '1390/01', '1390/02', '1390/03', '1390/04', '1390/05', '1390/06', '1390/07', '1390/08', '1390/09', '1390/10', '1390/11', '1390/12', '1391/01', '1391/02', '1391/03', '1391/04', '1391/05', '1391/06', '1391/07', '1391/08', '1391/09', '1391/10', '1391/11', '1391/12', '1392/01', '1392/02', '1392/03', '1392/04', '1392/05', '1392/06', '1392/07', '1392/08', '1392/09', '1392/10', '1392/11', '1392/12', '1393/01', '1393/02', '1393/03', '1393/04', '1393/05', '1393/06', '1393/07', '1393/08', '1393/09', '1393/10', '1393/11', '1393/12', '1394/01', '1394/02', '1394/03', '1394/04', '1394/05', '1394/06', '1394/07', '1394/08', '1394/09', '1394/10', '1394/11', '1394/12', '1395/01', '1395/02', '1395/03', '1395/04', '1395/05', '1395/06', '1395/07', '1395/08', '1395/09', '1395/10', '1395/11', '1395/12', '1396/01', '1396/02', '1396/03', '1396/04', '1396/05', '1396/06', '1396/07', '1396/08', '1396/09', '1396/10', '1396/11', '1396/12', '1397/01', '1397/02', '1397/03', '1397/04', '1397/05', '1397/06', '1397/07', '1397/08', '1397/09', '1397/10', '1397/11', '1397/12', '1398/01', '1398/02', '1398/03', '1398/04', '1398/05', '1398/06', '1398/07', '1398/08', '1398/09', '1398/10', '1398/11', '1398/12', '1399/01', '1399/02', '1399/03', '1399/04', '1399/05', '1399/06', '1399/07', '1399/08', '1399/09', '1399/10', '1399/11', '1399/12', '1400/01', '1400/02']"
      ],
      "execution_count": null,
      "outputs": []
    },
    {
      "cell_type": "code",
      "metadata": {
        "id": "_6IFJ4NpUsWL"
      },
      "source": [
        "akhza = pd.DataFrame({'Year/Month': indexes,\n",
        "                      'rf-return': np.zeros(len(indexes))}).set_index('Year/Month')"
      ],
      "execution_count": null,
      "outputs": []
    },
    {
      "cell_type": "code",
      "metadata": {
        "id": "4cope7kEVOPl"
      },
      "source": [
        "akhza[akhza.index < '1396/01'] = 0.0207847\n",
        "akhza[(akhza.index < '1397/01') & (akhza.index >= '1396/01')] = 0.016709\n",
        "akhza[(akhza.index < '1398/01') & (akhza.index >= '1397/01')] = 0.0180876\n",
        "akhza[(akhza.index < '1399/01') & (akhza.index >= '1398/01')] = 0.0153095\n",
        "akhza[(akhza.index < '1399/07') & (akhza.index >= '1399/01')] = 0.0138884\n",
        "akhza[(akhza.index >= '1399/07')] = 0.0160119"
      ],
      "execution_count": null,
      "outputs": []
    },
    {
      "cell_type": "markdown",
      "metadata": {
        "id": "_4rDHMJKNtkj"
      },
      "source": [
        "# Vared Kardane Sandoogh ha"
      ]
    },
    {
      "cell_type": "markdown",
      "metadata": {
        "id": "KEBmYxbtKHZw"
      },
      "source": [
        "Yek function minevisim ke esme file ra migirad va return fund ra be soorate mahane mohasebe mikonad:"
      ]
    },
    {
      "cell_type": "code",
      "metadata": {
        "id": "4wnBusOXfl9L"
      },
      "source": [
        "def mutualFunds(filename):\n",
        "  \"\"\"\n",
        "  Voroodi taabe esme file marboot be fund ast.\n",
        "  khorooji taabe ye DataFrame ast ke return mahane fund ra hesab karde ast.\n",
        "  \"\"\"\n",
        "  df = pd.read_html(filename)[0] # baz kardane file\n",
        "  # Clean kardane DataFrame:\n",
        "  df.drop_duplicates(inplace=True)\n",
        "  df['Year/Month'] = df['Date'].apply(lambda x:x[:-3]) # Joda kardane sal va mah\n",
        "  del df['AghazFaliat'], df['NAVAmari'], df['NAVSodoor'],\\\n",
        "   df['Units'], df['NetAsset'], df['Date']      # Hazfe sotoonhaye ezafi\n",
        "  name = df['name'][0] # Joda kardane esme sandoogh\n",
        "  df = df.groupby('Year/Month').mean() # mianging gereftan az gheymate sahme mahane baraye sakhte returne mahane\n",
        "  df = df.pct_change()\n",
        "  df = df.rename(columns={'NAVEbtal': name}) # gharardadane esme sandoogh be onvane esme sotoon\n",
        "  return df"
      ],
      "execution_count": null,
      "outputs": []
    },
    {
      "cell_type": "code",
      "metadata": {
        "id": "nvBC4DqzjuJM"
      },
      "source": [
        "file_names = ['MutualFundData (1).xls', 'MutualFundData (2).xls', \n",
        "              'MutualFundData (3).xls', 'MutualFundData (4).xls',\n",
        "              'MutualFundData (5).xls', 'MutualFundData (6).xls',\n",
        "              'MutualFundData (7).xls', 'MutualFundData (8).xls',\n",
        "              'MutualFundData (9).xls', 'MutualFundData (10).xls',\n",
        "              'MutualFundData (11).xls', 'MutualFundData (12).xls',\n",
        "              'MutualFundData (13).xls', 'MutualFundData (14).xls',\n",
        "              'MutualFundData (15).xls', 'MutualFundData (16).xls',\n",
        "              'MutualFundData (17).xls', 'MutualFundData (18).xls',\n",
        "              'MutualFundData (19).xls', 'MutualFundData (20).xls',]"
      ],
      "execution_count": null,
      "outputs": []
    },
    {
      "cell_type": "markdown",
      "metadata": {
        "id": "IOuNrapfqTQQ"
      },
      "source": [
        "## Sakhtane yek DataFrame baraye gereftane returne tamame sandooghha"
      ]
    },
    {
      "cell_type": "code",
      "metadata": {
        "id": "ObgzU0kLopog"
      },
      "source": [
        "returns = IndexData\n",
        "for i in file_names:\n",
        "  returns = returns.join(mutualFunds(i), how='outer')"
      ],
      "execution_count": null,
      "outputs": []
    },
    {
      "cell_type": "code",
      "metadata": {
        "colab": {
          "base_uri": "https://localhost:8080/",
          "height": 521
        },
        "id": "CFGlcoPMlPO_",
        "outputId": "b578ee48-ed59-4e0e-bed8-c677abb2451e"
      },
      "source": [
        "returns"
      ],
      "execution_count": null,
      "outputs": [
        {
          "output_type": "execute_result",
          "data": {
            "text/html": [
              "<div>\n",
              "<style scoped>\n",
              "    .dataframe tbody tr th:only-of-type {\n",
              "        vertical-align: middle;\n",
              "    }\n",
              "\n",
              "    .dataframe tbody tr th {\n",
              "        vertical-align: top;\n",
              "    }\n",
              "\n",
              "    .dataframe thead th {\n",
              "        text-align: right;\n",
              "    }\n",
              "</style>\n",
              "<table border=\"1\" class=\"dataframe\">\n",
              "  <thead>\n",
              "    <tr style=\"text-align: right;\">\n",
              "      <th></th>\n",
              "      <th>Index Montly Return</th>\n",
              "      <th>کارگزاری پارسیان</th>\n",
              "      <th>مشترک بورسیران</th>\n",
              "      <th>بانک دی</th>\n",
              "      <th>مشترک یکم سامان</th>\n",
              "      <th>مشترک آگاه</th>\n",
              "      <th>صندوق سرمایه‌گذاری گنجینه رفاه</th>\n",
              "      <th>باران کارگزاری بانک کشاورزی</th>\n",
              "      <th>صندوق سرمایه‌گذاری آسمان آرمانی سهام</th>\n",
              "      <th>توسعه صادرات</th>\n",
              "      <th>سپهر اول کارگزاری بانک صادرات</th>\n",
              "      <th>صندوق سرمایه‌گذاری فیروزه موفقیت</th>\n",
              "      <th>مشترک عقیق</th>\n",
              "      <th>صندوق سرمایه‌گذاری مشترک نوید انصار</th>\n",
              "      <th>صندوق سرمایه‌گذاری مشترک سبحان</th>\n",
              "      <th>صندوق سرمایه‌گذاری بانک توسعه تعاون</th>\n",
              "      <th>صندوق سرمایه‌گذاری مشترک صبا</th>\n",
              "      <th>قابل معامله امين تدبيرگران فردا</th>\n",
              "      <th>اندیشه خبرگان سهام</th>\n",
              "      <th>مشترک رشد سامان</th>\n",
              "      <th>صندوق سرمایه‌گذاری مشترک مبین سرمایه</th>\n",
              "    </tr>\n",
              "    <tr>\n",
              "      <th>Year/Month</th>\n",
              "      <th></th>\n",
              "      <th></th>\n",
              "      <th></th>\n",
              "      <th></th>\n",
              "      <th></th>\n",
              "      <th></th>\n",
              "      <th></th>\n",
              "      <th></th>\n",
              "      <th></th>\n",
              "      <th></th>\n",
              "      <th></th>\n",
              "      <th></th>\n",
              "      <th></th>\n",
              "      <th></th>\n",
              "      <th></th>\n",
              "      <th></th>\n",
              "      <th></th>\n",
              "      <th></th>\n",
              "      <th></th>\n",
              "      <th></th>\n",
              "      <th></th>\n",
              "    </tr>\n",
              "  </thead>\n",
              "  <tbody>\n",
              "    <tr>\n",
              "      <th>1387/05</th>\n",
              "      <td>NaN</td>\n",
              "      <td>NaN</td>\n",
              "      <td>NaN</td>\n",
              "      <td>NaN</td>\n",
              "      <td>NaN</td>\n",
              "      <td>NaN</td>\n",
              "      <td>NaN</td>\n",
              "      <td>NaN</td>\n",
              "      <td>NaN</td>\n",
              "      <td>NaN</td>\n",
              "      <td>NaN</td>\n",
              "      <td>NaN</td>\n",
              "      <td>NaN</td>\n",
              "      <td>NaN</td>\n",
              "      <td>NaN</td>\n",
              "      <td>NaN</td>\n",
              "      <td>NaN</td>\n",
              "      <td>NaN</td>\n",
              "      <td>NaN</td>\n",
              "      <td>NaN</td>\n",
              "      <td>NaN</td>\n",
              "    </tr>\n",
              "    <tr>\n",
              "      <th>1387/06</th>\n",
              "      <td>NaN</td>\n",
              "      <td>NaN</td>\n",
              "      <td>NaN</td>\n",
              "      <td>NaN</td>\n",
              "      <td>NaN</td>\n",
              "      <td>0.087092</td>\n",
              "      <td>NaN</td>\n",
              "      <td>NaN</td>\n",
              "      <td>NaN</td>\n",
              "      <td>NaN</td>\n",
              "      <td>NaN</td>\n",
              "      <td>NaN</td>\n",
              "      <td>NaN</td>\n",
              "      <td>NaN</td>\n",
              "      <td>NaN</td>\n",
              "      <td>NaN</td>\n",
              "      <td>NaN</td>\n",
              "      <td>NaN</td>\n",
              "      <td>NaN</td>\n",
              "      <td>NaN</td>\n",
              "      <td>NaN</td>\n",
              "    </tr>\n",
              "    <tr>\n",
              "      <th>1387/07</th>\n",
              "      <td>NaN</td>\n",
              "      <td>NaN</td>\n",
              "      <td>NaN</td>\n",
              "      <td>NaN</td>\n",
              "      <td>NaN</td>\n",
              "      <td>0.013264</td>\n",
              "      <td>NaN</td>\n",
              "      <td>NaN</td>\n",
              "      <td>NaN</td>\n",
              "      <td>NaN</td>\n",
              "      <td>NaN</td>\n",
              "      <td>NaN</td>\n",
              "      <td>NaN</td>\n",
              "      <td>NaN</td>\n",
              "      <td>NaN</td>\n",
              "      <td>NaN</td>\n",
              "      <td>NaN</td>\n",
              "      <td>NaN</td>\n",
              "      <td>NaN</td>\n",
              "      <td>NaN</td>\n",
              "      <td>NaN</td>\n",
              "    </tr>\n",
              "    <tr>\n",
              "      <th>1387/08</th>\n",
              "      <td>NaN</td>\n",
              "      <td>NaN</td>\n",
              "      <td>NaN</td>\n",
              "      <td>NaN</td>\n",
              "      <td>NaN</td>\n",
              "      <td>-0.054980</td>\n",
              "      <td>NaN</td>\n",
              "      <td>NaN</td>\n",
              "      <td>NaN</td>\n",
              "      <td>NaN</td>\n",
              "      <td>NaN</td>\n",
              "      <td>NaN</td>\n",
              "      <td>NaN</td>\n",
              "      <td>NaN</td>\n",
              "      <td>NaN</td>\n",
              "      <td>NaN</td>\n",
              "      <td>NaN</td>\n",
              "      <td>NaN</td>\n",
              "      <td>NaN</td>\n",
              "      <td>NaN</td>\n",
              "      <td>NaN</td>\n",
              "    </tr>\n",
              "    <tr>\n",
              "      <th>1387/09</th>\n",
              "      <td>NaN</td>\n",
              "      <td>NaN</td>\n",
              "      <td>NaN</td>\n",
              "      <td>NaN</td>\n",
              "      <td>NaN</td>\n",
              "      <td>-0.011016</td>\n",
              "      <td>NaN</td>\n",
              "      <td>NaN</td>\n",
              "      <td>NaN</td>\n",
              "      <td>NaN</td>\n",
              "      <td>NaN</td>\n",
              "      <td>NaN</td>\n",
              "      <td>NaN</td>\n",
              "      <td>NaN</td>\n",
              "      <td>NaN</td>\n",
              "      <td>NaN</td>\n",
              "      <td>NaN</td>\n",
              "      <td>NaN</td>\n",
              "      <td>NaN</td>\n",
              "      <td>NaN</td>\n",
              "      <td>NaN</td>\n",
              "    </tr>\n",
              "    <tr>\n",
              "      <th>...</th>\n",
              "      <td>...</td>\n",
              "      <td>...</td>\n",
              "      <td>...</td>\n",
              "      <td>...</td>\n",
              "      <td>...</td>\n",
              "      <td>...</td>\n",
              "      <td>...</td>\n",
              "      <td>...</td>\n",
              "      <td>...</td>\n",
              "      <td>...</td>\n",
              "      <td>...</td>\n",
              "      <td>...</td>\n",
              "      <td>...</td>\n",
              "      <td>...</td>\n",
              "      <td>...</td>\n",
              "      <td>...</td>\n",
              "      <td>...</td>\n",
              "      <td>...</td>\n",
              "      <td>...</td>\n",
              "      <td>...</td>\n",
              "      <td>...</td>\n",
              "    </tr>\n",
              "    <tr>\n",
              "      <th>1399/10</th>\n",
              "      <td>-0.077804</td>\n",
              "      <td>-0.015599</td>\n",
              "      <td>-0.063334</td>\n",
              "      <td>-0.022858</td>\n",
              "      <td>-0.123122</td>\n",
              "      <td>-0.034834</td>\n",
              "      <td>-0.067940</td>\n",
              "      <td>-0.099104</td>\n",
              "      <td>0.019199</td>\n",
              "      <td>-0.087283</td>\n",
              "      <td>-0.075857</td>\n",
              "      <td>0.051258</td>\n",
              "      <td>-0.045859</td>\n",
              "      <td>-0.025222</td>\n",
              "      <td>-0.029284</td>\n",
              "      <td>-0.062706</td>\n",
              "      <td>-0.038671</td>\n",
              "      <td>0.000776</td>\n",
              "      <td>-0.078611</td>\n",
              "      <td>-0.097858</td>\n",
              "      <td>-0.091742</td>\n",
              "    </tr>\n",
              "    <tr>\n",
              "      <th>1399/11</th>\n",
              "      <td>-0.085907</td>\n",
              "      <td>-0.166375</td>\n",
              "      <td>-0.087449</td>\n",
              "      <td>-0.126209</td>\n",
              "      <td>-0.095108</td>\n",
              "      <td>-0.074060</td>\n",
              "      <td>-0.089998</td>\n",
              "      <td>-0.077118</td>\n",
              "      <td>-0.035589</td>\n",
              "      <td>-0.089411</td>\n",
              "      <td>-0.084516</td>\n",
              "      <td>-0.041775</td>\n",
              "      <td>-0.085670</td>\n",
              "      <td>-0.078597</td>\n",
              "      <td>-0.085677</td>\n",
              "      <td>-0.105688</td>\n",
              "      <td>-0.104070</td>\n",
              "      <td>-0.101900</td>\n",
              "      <td>-0.078471</td>\n",
              "      <td>-0.087866</td>\n",
              "      <td>-0.089164</td>\n",
              "    </tr>\n",
              "    <tr>\n",
              "      <th>1399/12</th>\n",
              "      <td>-0.007474</td>\n",
              "      <td>-0.038070</td>\n",
              "      <td>0.005320</td>\n",
              "      <td>-0.044957</td>\n",
              "      <td>0.009784</td>\n",
              "      <td>0.008545</td>\n",
              "      <td>-0.006393</td>\n",
              "      <td>0.003383</td>\n",
              "      <td>-0.000480</td>\n",
              "      <td>-0.006957</td>\n",
              "      <td>-0.012828</td>\n",
              "      <td>0.003144</td>\n",
              "      <td>0.017967</td>\n",
              "      <td>0.014386</td>\n",
              "      <td>0.011353</td>\n",
              "      <td>-0.017566</td>\n",
              "      <td>-0.013352</td>\n",
              "      <td>0.000902</td>\n",
              "      <td>0.018855</td>\n",
              "      <td>-0.019657</td>\n",
              "      <td>-0.003449</td>\n",
              "    </tr>\n",
              "    <tr>\n",
              "      <th>1400/01</th>\n",
              "      <td>0.035180</td>\n",
              "      <td>0.034538</td>\n",
              "      <td>0.032956</td>\n",
              "      <td>-0.014283</td>\n",
              "      <td>0.035700</td>\n",
              "      <td>0.038859</td>\n",
              "      <td>0.029164</td>\n",
              "      <td>0.030653</td>\n",
              "      <td>0.041093</td>\n",
              "      <td>0.019766</td>\n",
              "      <td>0.022171</td>\n",
              "      <td>0.027820</td>\n",
              "      <td>0.038869</td>\n",
              "      <td>0.007069</td>\n",
              "      <td>0.038290</td>\n",
              "      <td>0.017011</td>\n",
              "      <td>0.016611</td>\n",
              "      <td>0.024876</td>\n",
              "      <td>0.036458</td>\n",
              "      <td>0.002907</td>\n",
              "      <td>0.031899</td>\n",
              "    </tr>\n",
              "    <tr>\n",
              "      <th>1400/02</th>\n",
              "      <td>-0.049175</td>\n",
              "      <td>-0.045188</td>\n",
              "      <td>-0.046564</td>\n",
              "      <td>-0.045110</td>\n",
              "      <td>-0.075780</td>\n",
              "      <td>-0.043305</td>\n",
              "      <td>-0.054577</td>\n",
              "      <td>-0.079055</td>\n",
              "      <td>-0.047572</td>\n",
              "      <td>-0.088368</td>\n",
              "      <td>-0.058619</td>\n",
              "      <td>-0.042925</td>\n",
              "      <td>-0.035451</td>\n",
              "      <td>-0.039703</td>\n",
              "      <td>-0.039304</td>\n",
              "      <td>-0.061729</td>\n",
              "      <td>-0.060057</td>\n",
              "      <td>-0.061408</td>\n",
              "      <td>-0.053500</td>\n",
              "      <td>-0.066253</td>\n",
              "      <td>-0.065452</td>\n",
              "    </tr>\n",
              "  </tbody>\n",
              "</table>\n",
              "<p>154 rows × 21 columns</p>\n",
              "</div>"
            ],
            "text/plain": [
              "            Index Montly Return  ...  صندوق سرمایه‌گذاری مشترک مبین سرمایه\n",
              "Year/Month                       ...                                      \n",
              "1387/05                     NaN  ...                                   NaN\n",
              "1387/06                     NaN  ...                                   NaN\n",
              "1387/07                     NaN  ...                                   NaN\n",
              "1387/08                     NaN  ...                                   NaN\n",
              "1387/09                     NaN  ...                                   NaN\n",
              "...                         ...  ...                                   ...\n",
              "1399/10               -0.077804  ...                             -0.091742\n",
              "1399/11               -0.085907  ...                             -0.089164\n",
              "1399/12               -0.007474  ...                             -0.003449\n",
              "1400/01                0.035180  ...                              0.031899\n",
              "1400/02               -0.049175  ...                             -0.065452\n",
              "\n",
              "[154 rows x 21 columns]"
            ]
          },
          "metadata": {
            "tags": []
          },
          "execution_count": 15
        }
      ]
    },
    {
      "cell_type": "code",
      "metadata": {
        "colab": {
          "base_uri": "https://localhost:8080/",
          "height": 801
        },
        "id": "X1mNBDSbKXjY",
        "outputId": "5851ae76-44b8-4ea1-b289-e0c25e451f05"
      },
      "source": [
        "plt.figure(figsize=(19,7))\n",
        "plt.title('Montly Returns of Funds')\n",
        "plt.ylabel('Return')\n",
        "# plt.grid(True)\n",
        "plt.plot(returns)"
      ],
      "execution_count": null,
      "outputs": [
        {
          "output_type": "execute_result",
          "data": {
            "text/plain": [
              "[<matplotlib.lines.Line2D at 0x7fa029895910>,\n",
              " <matplotlib.lines.Line2D at 0x7fa029895590>,\n",
              " <matplotlib.lines.Line2D at 0x7fa02988d7d0>,\n",
              " <matplotlib.lines.Line2D at 0x7fa029095690>,\n",
              " <matplotlib.lines.Line2D at 0x7fa029095150>,\n",
              " <matplotlib.lines.Line2D at 0x7fa029095f50>,\n",
              " <matplotlib.lines.Line2D at 0x7fa029095090>,\n",
              " <matplotlib.lines.Line2D at 0x7fa029095cd0>,\n",
              " <matplotlib.lines.Line2D at 0x7fa029095f10>,\n",
              " <matplotlib.lines.Line2D at 0x7fa029095750>,\n",
              " <matplotlib.lines.Line2D at 0x7fa028a950d0>,\n",
              " <matplotlib.lines.Line2D at 0x7fa029095d50>,\n",
              " <matplotlib.lines.Line2D at 0x7fa02988cf10>,\n",
              " <matplotlib.lines.Line2D at 0x7fa028ede110>,\n",
              " <matplotlib.lines.Line2D at 0x7fa028ede1d0>,\n",
              " <matplotlib.lines.Line2D at 0x7fa028ede0d0>,\n",
              " <matplotlib.lines.Line2D at 0x7fa028ede050>,\n",
              " <matplotlib.lines.Line2D at 0x7fa028ede210>,\n",
              " <matplotlib.lines.Line2D at 0x7fa028edef90>,\n",
              " <matplotlib.lines.Line2D at 0x7fa028ede990>,\n",
              " <matplotlib.lines.Line2D at 0x7fa028edee10>]"
            ]
          },
          "metadata": {
            "tags": []
          },
          "execution_count": 16
        },
        {
          "output_type": "display_data",
          "data": {
            "image/png": "[encoded data removed]",
            "text/plain": [
              "<Figure size 1368x504 with 1 Axes>"
            ]
          },
          "metadata": {
            "tags": [],
            "needs_background": "light"
          }
        }
      ]
    },
    {
      "cell_type": "markdown",
      "metadata": {
        "id": "tqzJXtpvU7F5"
      },
      "source": [
        "# Regression with alpha and beta"
      ]
    },
    {
      "cell_type": "code",
      "metadata": {
        "id": "8KFBvNvQZOeC"
      },
      "source": [
        "alpha = [] # an emty list to append alphas\n",
        "alpa_tstat = [] # an empty list to append alpa t-statistcs\n",
        "alpha_pval = [] # an empty list to append alpa p-values\n",
        "beta = [] # an empty list to append betas\n",
        "beta_tstat = [] # an empty list to append beta t-statistcs\n",
        "beta_pval = [] # an empty list to append beta p-values"
      ],
      "execution_count": null,
      "outputs": []
    },
    {
      "cell_type": "code",
      "metadata": {
        "id": "rqtoW2szYmzg"
      },
      "source": [
        "for i in range(1, len(returns.columns)):\n",
        "  model = sm.OLS(returns.iloc[:,0]-akhza.squeeze(),\n",
        "               sm.add_constant(returns.iloc[:,i]-akhza.squeeze()),\n",
        "               missing='drop').fit()\n",
        "  # append desired variables to its list\n",
        "  alpha.append(model.params.iloc[0])\n",
        "  beta.append(model.params.iloc[1])\n",
        "  alpa_tstat.append(model.tvalues.iloc[0])\n",
        "  beta_tstat.append(model.tvalues.iloc[1])\n",
        "  alpha_pval.append(model.pvalues.iloc[0])\n",
        "  beta_pval.append(model.pvalues.iloc[1])"
      ],
      "execution_count": null,
      "outputs": []
    },
    {
      "cell_type": "markdown",
      "metadata": {
        "id": "eQMK9y1SbhPG"
      },
      "source": [
        "Make a DataFrame of parametrs"
      ]
    },
    {
      "cell_type": "code",
      "metadata": {
        "id": "coaljCDMYyNl"
      },
      "source": [
        "Results = pd.DataFrame({\n",
        "    'Fund Name': returns.columns[1:], \n",
        "    'Alpha': alpha,\n",
        "    'Alpha t-stat': alpa_tstat,\n",
        "    'Alpha p-val': alpha_pval,\n",
        "    'Beta': beta,\n",
        "    'Beta t-stat': beta_tstat,\n",
        "    'Beta p-val': beta_pval\n",
        "}).set_index('Fund Name').sort_index()"
      ],
      "execution_count": null,
      "outputs": []
    },
    {
      "cell_type": "code",
      "metadata": {
        "colab": {
          "base_uri": "https://localhost:8080/",
          "height": 700
        },
        "id": "ApDcVEaQbzop",
        "outputId": "b55e1c24-f917-4634-958e-2f8251d07ca6"
      },
      "source": [
        "Results"
      ],
      "execution_count": null,
      "outputs": [
        {
          "output_type": "execute_result",
          "data": {
            "text/html": [
              "<div>\n",
              "<style scoped>\n",
              "    .dataframe tbody tr th:only-of-type {\n",
              "        vertical-align: middle;\n",
              "    }\n",
              "\n",
              "    .dataframe tbody tr th {\n",
              "        vertical-align: top;\n",
              "    }\n",
              "\n",
              "    .dataframe thead th {\n",
              "        text-align: right;\n",
              "    }\n",
              "</style>\n",
              "<table border=\"1\" class=\"dataframe\">\n",
              "  <thead>\n",
              "    <tr style=\"text-align: right;\">\n",
              "      <th></th>\n",
              "      <th>Alpha</th>\n",
              "      <th>Alpha t-stat</th>\n",
              "      <th>Alpha p-val</th>\n",
              "      <th>Beta</th>\n",
              "      <th>Beta t-stat</th>\n",
              "      <th>Beta p-val</th>\n",
              "    </tr>\n",
              "    <tr>\n",
              "      <th>Fund Name</th>\n",
              "      <th></th>\n",
              "      <th></th>\n",
              "      <th></th>\n",
              "      <th></th>\n",
              "      <th></th>\n",
              "      <th></th>\n",
              "    </tr>\n",
              "  </thead>\n",
              "  <tbody>\n",
              "    <tr>\n",
              "      <th>اندیشه خبرگان سهام</th>\n",
              "      <td>0.004254</td>\n",
              "      <td>1.065282</td>\n",
              "      <td>0.290409</td>\n",
              "      <td>0.908832</td>\n",
              "      <td>28.633561</td>\n",
              "      <td>2.222969e-40</td>\n",
              "    </tr>\n",
              "    <tr>\n",
              "      <th>باران کارگزاری بانک کشاورزی</th>\n",
              "      <td>0.005124</td>\n",
              "      <td>2.414581</td>\n",
              "      <td>0.017167</td>\n",
              "      <td>0.983348</td>\n",
              "      <td>44.323118</td>\n",
              "      <td>1.582373e-79</td>\n",
              "    </tr>\n",
              "    <tr>\n",
              "      <th>بانک دی</th>\n",
              "      <td>0.006475</td>\n",
              "      <td>2.461483</td>\n",
              "      <td>0.015295</td>\n",
              "      <td>0.984687</td>\n",
              "      <td>36.194354</td>\n",
              "      <td>2.186170e-65</td>\n",
              "    </tr>\n",
              "    <tr>\n",
              "      <th>توسعه صادرات</th>\n",
              "      <td>0.002357</td>\n",
              "      <td>0.535442</td>\n",
              "      <td>0.593352</td>\n",
              "      <td>0.746703</td>\n",
              "      <td>19.923761</td>\n",
              "      <td>1.469306e-39</td>\n",
              "    </tr>\n",
              "    <tr>\n",
              "      <th>سپهر اول کارگزاری بانک صادرات</th>\n",
              "      <td>0.006569</td>\n",
              "      <td>2.680298</td>\n",
              "      <td>0.008408</td>\n",
              "      <td>0.929518</td>\n",
              "      <td>38.924443</td>\n",
              "      <td>3.582405e-69</td>\n",
              "    </tr>\n",
              "    <tr>\n",
              "      <th>صندوق سرمایه‌گذاری آسمان آرمانی سهام</th>\n",
              "      <td>-0.003459</td>\n",
              "      <td>-1.020724</td>\n",
              "      <td>0.310215</td>\n",
              "      <td>1.101454</td>\n",
              "      <td>31.346033</td>\n",
              "      <td>3.526501e-49</td>\n",
              "    </tr>\n",
              "    <tr>\n",
              "      <th>صندوق سرمایه‌گذاری بانک توسعه تعاون</th>\n",
              "      <td>0.001623</td>\n",
              "      <td>0.424082</td>\n",
              "      <td>0.672342</td>\n",
              "      <td>0.836844</td>\n",
              "      <td>24.907358</td>\n",
              "      <td>8.424943e-47</td>\n",
              "    </tr>\n",
              "    <tr>\n",
              "      <th>صندوق سرمایه‌گذاری فیروزه موفقیت</th>\n",
              "      <td>-0.002257</td>\n",
              "      <td>-0.622686</td>\n",
              "      <td>0.534598</td>\n",
              "      <td>1.176918</td>\n",
              "      <td>24.808348</td>\n",
              "      <td>9.749784e-51</td>\n",
              "    </tr>\n",
              "    <tr>\n",
              "      <th>صندوق سرمایه‌گذاری مشترک سبحان</th>\n",
              "      <td>0.007151</td>\n",
              "      <td>2.305144</td>\n",
              "      <td>0.023335</td>\n",
              "      <td>0.953183</td>\n",
              "      <td>33.224545</td>\n",
              "      <td>4.262532e-54</td>\n",
              "    </tr>\n",
              "    <tr>\n",
              "      <th>صندوق سرمایه‌گذاری مشترک صبا</th>\n",
              "      <td>0.008602</td>\n",
              "      <td>3.342554</td>\n",
              "      <td>0.001078</td>\n",
              "      <td>0.974241</td>\n",
              "      <td>35.100831</td>\n",
              "      <td>4.068911e-69</td>\n",
              "    </tr>\n",
              "    <tr>\n",
              "      <th>صندوق سرمایه‌گذاری مشترک مبین سرمایه</th>\n",
              "      <td>-0.001736</td>\n",
              "      <td>-0.570528</td>\n",
              "      <td>0.570200</td>\n",
              "      <td>0.987452</td>\n",
              "      <td>39.259600</td>\n",
              "      <td>1.873643e-48</td>\n",
              "    </tr>\n",
              "    <tr>\n",
              "      <th>صندوق سرمایه‌گذاری مشترک نوید انصار</th>\n",
              "      <td>0.005918</td>\n",
              "      <td>1.302080</td>\n",
              "      <td>0.195910</td>\n",
              "      <td>0.923424</td>\n",
              "      <td>21.142365</td>\n",
              "      <td>1.731581e-38</td>\n",
              "    </tr>\n",
              "    <tr>\n",
              "      <th>صندوق سرمایه‌گذاری گنجینه رفاه</th>\n",
              "      <td>0.004806</td>\n",
              "      <td>1.351157</td>\n",
              "      <td>0.179010</td>\n",
              "      <td>0.830683</td>\n",
              "      <td>24.768001</td>\n",
              "      <td>7.267872e-51</td>\n",
              "    </tr>\n",
              "    <tr>\n",
              "      <th>قابل معامله امين تدبيرگران فردا</th>\n",
              "      <td>0.004820</td>\n",
              "      <td>1.457778</td>\n",
              "      <td>0.148916</td>\n",
              "      <td>1.150860</td>\n",
              "      <td>33.391832</td>\n",
              "      <td>5.906242e-48</td>\n",
              "    </tr>\n",
              "    <tr>\n",
              "      <th>مشترک آگاه</th>\n",
              "      <td>-0.005238</td>\n",
              "      <td>-2.083872</td>\n",
              "      <td>0.038903</td>\n",
              "      <td>0.977991</td>\n",
              "      <td>35.648991</td>\n",
              "      <td>3.118605e-74</td>\n",
              "    </tr>\n",
              "    <tr>\n",
              "      <th>مشترک بورسیران</th>\n",
              "      <td>-0.002863</td>\n",
              "      <td>-1.020494</td>\n",
              "      <td>0.309254</td>\n",
              "      <td>0.890620</td>\n",
              "      <td>32.086994</td>\n",
              "      <td>2.100696e-66</td>\n",
              "    </tr>\n",
              "    <tr>\n",
              "      <th>مشترک رشد سامان</th>\n",
              "      <td>0.004028</td>\n",
              "      <td>1.050480</td>\n",
              "      <td>0.296475</td>\n",
              "      <td>0.993613</td>\n",
              "      <td>27.294457</td>\n",
              "      <td>7.917962e-44</td>\n",
              "    </tr>\n",
              "    <tr>\n",
              "      <th>مشترک عقیق</th>\n",
              "      <td>-0.002378</td>\n",
              "      <td>-0.837004</td>\n",
              "      <td>0.404254</td>\n",
              "      <td>0.998842</td>\n",
              "      <td>33.682258</td>\n",
              "      <td>5.316813e-63</td>\n",
              "    </tr>\n",
              "    <tr>\n",
              "      <th>مشترک یکم سامان</th>\n",
              "      <td>0.007789</td>\n",
              "      <td>2.281930</td>\n",
              "      <td>0.024301</td>\n",
              "      <td>0.991316</td>\n",
              "      <td>26.992304</td>\n",
              "      <td>4.455138e-52</td>\n",
              "    </tr>\n",
              "    <tr>\n",
              "      <th>کارگزاری پارسیان</th>\n",
              "      <td>0.006304</td>\n",
              "      <td>1.517904</td>\n",
              "      <td>0.131691</td>\n",
              "      <td>0.933055</td>\n",
              "      <td>21.136706</td>\n",
              "      <td>4.236366e-42</td>\n",
              "    </tr>\n",
              "  </tbody>\n",
              "</table>\n",
              "</div>"
            ],
            "text/plain": [
              "                                         Alpha  ...    Beta p-val\n",
              "Fund Name                                       ...              \n",
              "اندیشه خبرگان سهام                    0.004254  ...  2.222969e-40\n",
              "باران کارگزاری بانک کشاورزی           0.005124  ...  1.582373e-79\n",
              "بانک دی                               0.006475  ...  2.186170e-65\n",
              "توسعه صادرات                          0.002357  ...  1.469306e-39\n",
              "سپهر اول کارگزاری بانک صادرات         0.006569  ...  3.582405e-69\n",
              "صندوق سرمایه‌گذاری آسمان آرمانی سهام -0.003459  ...  3.526501e-49\n",
              "صندوق سرمایه‌گذاری بانک توسعه تعاون   0.001623  ...  8.424943e-47\n",
              "صندوق سرمایه‌گذاری فیروزه موفقیت     -0.002257  ...  9.749784e-51\n",
              "صندوق سرمایه‌گذاری مشترک سبحان        0.007151  ...  4.262532e-54\n",
              "صندوق سرمایه‌گذاری مشترک صبا          0.008602  ...  4.068911e-69\n",
              "صندوق سرمایه‌گذاری مشترک مبین سرمایه -0.001736  ...  1.873643e-48\n",
              "صندوق سرمایه‌گذاری مشترک نوید انصار   0.005918  ...  1.731581e-38\n",
              "صندوق سرمایه‌گذاری گنجینه رفاه        0.004806  ...  7.267872e-51\n",
              "قابل معامله امين تدبيرگران فردا       0.004820  ...  5.906242e-48\n",
              "مشترک آگاه                           -0.005238  ...  3.118605e-74\n",
              "مشترک بورسیران                       -0.002863  ...  2.100696e-66\n",
              "مشترک رشد سامان                       0.004028  ...  7.917962e-44\n",
              "مشترک عقیق                           -0.002378  ...  5.316813e-63\n",
              "مشترک یکم سامان                       0.007789  ...  4.455138e-52\n",
              "کارگزاری پارسیان                      0.006304  ...  4.236366e-42\n",
              "\n",
              "[20 rows x 6 columns]"
            ]
          },
          "metadata": {
            "tags": []
          },
          "execution_count": 20
        }
      ]
    },
    {
      "cell_type": "code",
      "metadata": {
        "colab": {
          "base_uri": "https://localhost:8080/",
          "height": 297
        },
        "id": "qnes5YbLnBCN",
        "outputId": "24c03c5a-0cf4-4287-ac5e-1c96bbf7b714"
      },
      "source": [
        "Results[Results['Alpha p-val']<0.05]"
      ],
      "execution_count": null,
      "outputs": [
        {
          "output_type": "execute_result",
          "data": {
            "text/html": [
              "<div>\n",
              "<style scoped>\n",
              "    .dataframe tbody tr th:only-of-type {\n",
              "        vertical-align: middle;\n",
              "    }\n",
              "\n",
              "    .dataframe tbody tr th {\n",
              "        vertical-align: top;\n",
              "    }\n",
              "\n",
              "    .dataframe thead th {\n",
              "        text-align: right;\n",
              "    }\n",
              "</style>\n",
              "<table border=\"1\" class=\"dataframe\">\n",
              "  <thead>\n",
              "    <tr style=\"text-align: right;\">\n",
              "      <th></th>\n",
              "      <th>Alpha</th>\n",
              "      <th>Alpha t-stat</th>\n",
              "      <th>Alpha p-val</th>\n",
              "      <th>Beta</th>\n",
              "      <th>Beta t-stat</th>\n",
              "      <th>Beta p-val</th>\n",
              "    </tr>\n",
              "    <tr>\n",
              "      <th>Fund Name</th>\n",
              "      <th></th>\n",
              "      <th></th>\n",
              "      <th></th>\n",
              "      <th></th>\n",
              "      <th></th>\n",
              "      <th></th>\n",
              "    </tr>\n",
              "  </thead>\n",
              "  <tbody>\n",
              "    <tr>\n",
              "      <th>باران کارگزاری بانک کشاورزی</th>\n",
              "      <td>0.005124</td>\n",
              "      <td>2.414581</td>\n",
              "      <td>0.017167</td>\n",
              "      <td>0.983348</td>\n",
              "      <td>44.323118</td>\n",
              "      <td>1.582373e-79</td>\n",
              "    </tr>\n",
              "    <tr>\n",
              "      <th>بانک دی</th>\n",
              "      <td>0.006475</td>\n",
              "      <td>2.461483</td>\n",
              "      <td>0.015295</td>\n",
              "      <td>0.984687</td>\n",
              "      <td>36.194354</td>\n",
              "      <td>2.186170e-65</td>\n",
              "    </tr>\n",
              "    <tr>\n",
              "      <th>سپهر اول کارگزاری بانک صادرات</th>\n",
              "      <td>0.006569</td>\n",
              "      <td>2.680298</td>\n",
              "      <td>0.008408</td>\n",
              "      <td>0.929518</td>\n",
              "      <td>38.924443</td>\n",
              "      <td>3.582405e-69</td>\n",
              "    </tr>\n",
              "    <tr>\n",
              "      <th>صندوق سرمایه‌گذاری مشترک سبحان</th>\n",
              "      <td>0.007151</td>\n",
              "      <td>2.305144</td>\n",
              "      <td>0.023335</td>\n",
              "      <td>0.953183</td>\n",
              "      <td>33.224545</td>\n",
              "      <td>4.262532e-54</td>\n",
              "    </tr>\n",
              "    <tr>\n",
              "      <th>صندوق سرمایه‌گذاری مشترک صبا</th>\n",
              "      <td>0.008602</td>\n",
              "      <td>3.342554</td>\n",
              "      <td>0.001078</td>\n",
              "      <td>0.974241</td>\n",
              "      <td>35.100831</td>\n",
              "      <td>4.068911e-69</td>\n",
              "    </tr>\n",
              "    <tr>\n",
              "      <th>مشترک آگاه</th>\n",
              "      <td>-0.005238</td>\n",
              "      <td>-2.083872</td>\n",
              "      <td>0.038903</td>\n",
              "      <td>0.977991</td>\n",
              "      <td>35.648991</td>\n",
              "      <td>3.118605e-74</td>\n",
              "    </tr>\n",
              "    <tr>\n",
              "      <th>مشترک یکم سامان</th>\n",
              "      <td>0.007789</td>\n",
              "      <td>2.281930</td>\n",
              "      <td>0.024301</td>\n",
              "      <td>0.991316</td>\n",
              "      <td>26.992304</td>\n",
              "      <td>4.455138e-52</td>\n",
              "    </tr>\n",
              "  </tbody>\n",
              "</table>\n",
              "</div>"
            ],
            "text/plain": [
              "                                   Alpha  ...    Beta p-val\n",
              "Fund Name                                 ...              \n",
              "باران کارگزاری بانک کشاورزی     0.005124  ...  1.582373e-79\n",
              "بانک دی                         0.006475  ...  2.186170e-65\n",
              "سپهر اول کارگزاری بانک صادرات   0.006569  ...  3.582405e-69\n",
              "صندوق سرمایه‌گذاری مشترک سبحان  0.007151  ...  4.262532e-54\n",
              "صندوق سرمایه‌گذاری مشترک صبا    0.008602  ...  4.068911e-69\n",
              "مشترک آگاه                     -0.005238  ...  3.118605e-74\n",
              "مشترک یکم سامان                 0.007789  ...  4.455138e-52\n",
              "\n",
              "[7 rows x 6 columns]"
            ]
          },
          "metadata": {
            "tags": []
          },
          "execution_count": 21
        }
      ]
    },
    {
      "cell_type": "code",
      "metadata": {
        "colab": {
          "base_uri": "https://localhost:8080/",
          "height": 312
        },
        "id": "C8-jsP_8tGVP",
        "outputId": "132e1b79-675b-4385-bcf7-991d9794844e"
      },
      "source": [
        "plt.hist(Results['Alpha'])\n",
        "plt.xlabel('Alpha')\n",
        "plt.ylabel('Frequency')\n",
        "plt.xlim(-0.009, 0.009)\n",
        "plt.title(\"Frequency Distribution of Mutual Fund Alphas\")"
      ],
      "execution_count": null,
      "outputs": [
        {
          "output_type": "execute_result",
          "data": {
            "text/plain": [
              "Text(0.5, 1.0, 'Frequency Distribution of Mutual Fund Alphas')"
            ]
          },
          "metadata": {
            "tags": []
          },
          "execution_count": 22
        },
        {
          "output_type": "display_data",
          "data": {
            "image/png": "[encoded data removed]",
            "text/plain": [
              "<Figure size 432x288 with 1 Axes>"
            ]
          },
          "metadata": {
            "tags": [],
            "needs_background": "light"
          }
        }
      ]
    },
    {
      "cell_type": "code",
      "metadata": {
        "colab": {
          "base_uri": "https://localhost:8080/",
          "height": 312
        },
        "id": "Z2RMmKtFtJH6",
        "outputId": "c2e3aeeb-da95-4bc6-c921-d963c2733b59"
      },
      "source": [
        "plt.hist(Results['Alpha t-stat'])\n",
        "plt.xlabel('t Value')\n",
        "plt.ylabel('Frequency')\n",
        "plt.xlim(-3, 3)\n",
        "plt.title(\"Frequency Distribution of t-ratios of Mutual Fund Alphas\")"
      ],
      "execution_count": null,
      "outputs": [
        {
          "output_type": "execute_result",
          "data": {
            "text/plain": [
              "Text(0.5, 1.0, 'Frequency Distribution of t-ratios of Mutual Fund Alphas')"
            ]
          },
          "metadata": {
            "tags": []
          },
          "execution_count": 23
        },
        {
          "output_type": "display_data",
          "data": {
            "image/png": "[encoded data removed]",
            "text/plain": [
              "<Figure size 432x288 with 1 Axes>"
            ]
          },
          "metadata": {
            "tags": [],
            "needs_background": "light"
          }
        }
      ]
    },
    {
      "cell_type": "markdown",
      "metadata": {
        "id": "ZjUJBsgmmMZq"
      },
      "source": [
        "# Q3"
      ]
    },
    {
      "cell_type": "markdown",
      "metadata": {
        "id": "RZxk27qlmmda"
      },
      "source": [
        "## Sakhtane yek DataFrame baraye gereftane returne tamame sandooghha dar bazehaye 1 va 2"
      ]
    },
    {
      "cell_type": "markdown",
      "metadata": {
        "id": "g0QwRUPOmtZT"
      },
      "source": [
        "baze 1: salhaye 95 va 96,\n",
        "baze 2: salhaye 97 va 98"
      ]
    },
    {
      "cell_type": "code",
      "metadata": {
        "id": "soV_nM3nnopg"
      },
      "source": [
        "baze1=returns[(returns.index>='1395/01')&(returns.index<'1397/01')] # First time frame\n",
        "baze2=returns[(returns.index>='1397/01')&(returns.index<'1399/01')] # Second time frame"
      ],
      "execution_count": null,
      "outputs": []
    },
    {
      "cell_type": "markdown",
      "metadata": {
        "id": "hNWVMk1MUbMx"
      },
      "source": [
        "akhza ra dar bazehaye 1 va 2 mohasebe mikonim:"
      ]
    },
    {
      "cell_type": "code",
      "metadata": {
        "id": "EpDXPZjUUUZA"
      },
      "source": [
        "akhza1=akhza[(akhza.index>='1395/01')&(akhza.index<'1397/01')].squeeze()\n",
        "akhza2=akhza[(akhza.index>='1397/01')&(akhza.index<'1399/01')].squeeze()"
      ],
      "execution_count": null,
      "outputs": []
    },
    {
      "cell_type": "code",
      "metadata": {
        "id": "W8UiVrYQpJ5s"
      },
      "source": [
        "# First time frame\n",
        "alpha1 = [] # an emty list to append alphas \n",
        "alpa_tstat1 = [] # an empty list to append alpa t-statistcs\n",
        "\n",
        "# Second time frame\n",
        "alpha2 = [] # an emty list to append alphas\n",
        "alpa_tstat2 = [] # an empty list to append alpa t-statistcs\n"
      ],
      "execution_count": null,
      "outputs": []
    },
    {
      "cell_type": "code",
      "metadata": {
        "id": "Jm0nAmGB0YaZ"
      },
      "source": [
        "for i in range(1, len(baze1.columns)):\n",
        "  # For 1st time frame:\n",
        "  model = sm.OLS(baze1.iloc[:,0]-akhza.squeeze(),\n",
        "               sm.add_constant(baze1.iloc[:,i]-akhza.squeeze()),\n",
        "               missing='drop').fit()\n",
        "  # append desired variables to its list\n",
        "  alpha1.append(model.params.iloc[0])\n",
        "  # alpa_tstat1.append(model.tvalues.iloc[0])\n",
        "  model = sm.OLS(baze2.iloc[:,0]-akhza.squeeze(),\n",
        "               sm.add_constant(baze2.iloc[:,i]-akhza.squeeze()),\n",
        "               missing='drop').fit()\n",
        "  # append desired variables to its list\n",
        "  alpha2.append(model.params.iloc[0])\n",
        "  # alpa_tstat2.append(model.tvalues.iloc[0])"
      ],
      "execution_count": null,
      "outputs": []
    },
    {
      "cell_type": "markdown",
      "metadata": {
        "id": "RTm0g7uWz3CC"
      },
      "source": [
        "Return calculation in two time frame"
      ]
    },
    {
      "cell_type": "code",
      "metadata": {
        "id": "ChE1CWI2z1XK"
      },
      "source": [
        "return1 = (((baze1.sub(akhza1, axis=0))+1).product()-1)[1:]\n",
        "return2 = (((baze2.sub(akhza2, axis=0))+1).product()-1)[1:]"
      ],
      "execution_count": null,
      "outputs": []
    },
    {
      "cell_type": "code",
      "metadata": {
        "id": "Ldz38sKazi63"
      },
      "source": [
        "win_lose = pd.DataFrame({\n",
        "    'Fund Name': returns.columns[1:], \n",
        "    'Alpha(1st)': alpha1,\n",
        "    'Alpha(2nd)': alpha2,\n",
        "    'Return(1st)': return1,\n",
        "    'Return(2nd)': return2\n",
        "}).set_index('Fund Name').sort_index()"
      ],
      "execution_count": null,
      "outputs": []
    },
    {
      "cell_type": "code",
      "metadata": {
        "colab": {
          "base_uri": "https://localhost:8080/",
          "height": 700
        },
        "id": "PiyjqZa415ZU",
        "outputId": "a761e6dd-e316-4567-9c03-191d6e8ca525"
      },
      "source": [
        "win_lose"
      ],
      "execution_count": null,
      "outputs": [
        {
          "output_type": "execute_result",
          "data": {
            "text/html": [
              "<div>\n",
              "<style scoped>\n",
              "    .dataframe tbody tr th:only-of-type {\n",
              "        vertical-align: middle;\n",
              "    }\n",
              "\n",
              "    .dataframe tbody tr th {\n",
              "        vertical-align: top;\n",
              "    }\n",
              "\n",
              "    .dataframe thead th {\n",
              "        text-align: right;\n",
              "    }\n",
              "</style>\n",
              "<table border=\"1\" class=\"dataframe\">\n",
              "  <thead>\n",
              "    <tr style=\"text-align: right;\">\n",
              "      <th></th>\n",
              "      <th>Alpha(1st)</th>\n",
              "      <th>Alpha(2nd)</th>\n",
              "      <th>Return(1st)</th>\n",
              "      <th>Return(2nd)</th>\n",
              "    </tr>\n",
              "    <tr>\n",
              "      <th>Fund Name</th>\n",
              "      <th></th>\n",
              "      <th></th>\n",
              "      <th></th>\n",
              "      <th></th>\n",
              "    </tr>\n",
              "  </thead>\n",
              "  <tbody>\n",
              "    <tr>\n",
              "      <th>اندیشه خبرگان سهام</th>\n",
              "      <td>0.003927</td>\n",
              "      <td>0.008488</td>\n",
              "      <td>-0.338417</td>\n",
              "      <td>2.351185</td>\n",
              "    </tr>\n",
              "    <tr>\n",
              "      <th>باران کارگزاری بانک کشاورزی</th>\n",
              "      <td>-0.002413</td>\n",
              "      <td>0.000197</td>\n",
              "      <td>-0.185803</td>\n",
              "      <td>2.371731</td>\n",
              "    </tr>\n",
              "    <tr>\n",
              "      <th>بانک دی</th>\n",
              "      <td>-0.007302</td>\n",
              "      <td>0.015108</td>\n",
              "      <td>-0.116029</td>\n",
              "      <td>1.471715</td>\n",
              "    </tr>\n",
              "    <tr>\n",
              "      <th>توسعه صادرات</th>\n",
              "      <td>-0.006401</td>\n",
              "      <td>0.012301</td>\n",
              "      <td>-0.422396</td>\n",
              "      <td>2.073266</td>\n",
              "    </tr>\n",
              "    <tr>\n",
              "      <th>سپهر اول کارگزاری بانک صادرات</th>\n",
              "      <td>0.002102</td>\n",
              "      <td>0.015596</td>\n",
              "      <td>-0.272397</td>\n",
              "      <td>2.015206</td>\n",
              "    </tr>\n",
              "    <tr>\n",
              "      <th>صندوق سرمایه‌گذاری آسمان آرمانی سهام</th>\n",
              "      <td>-0.004897</td>\n",
              "      <td>0.007709</td>\n",
              "      <td>-0.150942</td>\n",
              "      <td>2.012912</td>\n",
              "    </tr>\n",
              "    <tr>\n",
              "      <th>صندوق سرمایه‌گذاری بانک توسعه تعاون</th>\n",
              "      <td>-0.005382</td>\n",
              "      <td>-0.000961</td>\n",
              "      <td>-0.179870</td>\n",
              "      <td>3.960832</td>\n",
              "    </tr>\n",
              "    <tr>\n",
              "      <th>صندوق سرمایه‌گذاری فیروزه موفقیت</th>\n",
              "      <td>-0.010780</td>\n",
              "      <td>-0.000055</td>\n",
              "      <td>0.037336</td>\n",
              "      <td>2.024392</td>\n",
              "    </tr>\n",
              "    <tr>\n",
              "      <th>صندوق سرمایه‌گذاری مشترک سبحان</th>\n",
              "      <td>-0.007685</td>\n",
              "      <td>0.011398</td>\n",
              "      <td>-0.072535</td>\n",
              "      <td>1.936450</td>\n",
              "    </tr>\n",
              "    <tr>\n",
              "      <th>صندوق سرمایه‌گذاری مشترک صبا</th>\n",
              "      <td>-0.001852</td>\n",
              "      <td>-0.002682</td>\n",
              "      <td>-0.266585</td>\n",
              "      <td>2.689101</td>\n",
              "    </tr>\n",
              "    <tr>\n",
              "      <th>صندوق سرمایه‌گذاری مشترک مبین سرمایه</th>\n",
              "      <td>-0.005357</td>\n",
              "      <td>0.004821</td>\n",
              "      <td>-0.165769</td>\n",
              "      <td>2.673048</td>\n",
              "    </tr>\n",
              "    <tr>\n",
              "      <th>صندوق سرمایه‌گذاری مشترک نوید انصار</th>\n",
              "      <td>-0.001374</td>\n",
              "      <td>0.000522</td>\n",
              "      <td>-0.339665</td>\n",
              "      <td>3.415824</td>\n",
              "    </tr>\n",
              "    <tr>\n",
              "      <th>صندوق سرمایه‌گذاری گنجینه رفاه</th>\n",
              "      <td>-0.004217</td>\n",
              "      <td>-0.002453</td>\n",
              "      <td>-0.158088</td>\n",
              "      <td>4.023459</td>\n",
              "    </tr>\n",
              "    <tr>\n",
              "      <th>قابل معامله امين تدبيرگران فردا</th>\n",
              "      <td>0.006942</td>\n",
              "      <td>0.012223</td>\n",
              "      <td>-0.319081</td>\n",
              "      <td>1.534262</td>\n",
              "    </tr>\n",
              "    <tr>\n",
              "      <th>مشترک آگاه</th>\n",
              "      <td>-0.005773</td>\n",
              "      <td>-0.002510</td>\n",
              "      <td>-0.211182</td>\n",
              "      <td>3.142754</td>\n",
              "    </tr>\n",
              "    <tr>\n",
              "      <th>مشترک بورسیران</th>\n",
              "      <td>-0.000162</td>\n",
              "      <td>0.006050</td>\n",
              "      <td>-0.288665</td>\n",
              "      <td>3.961862</td>\n",
              "    </tr>\n",
              "    <tr>\n",
              "      <th>مشترک رشد سامان</th>\n",
              "      <td>-0.000761</td>\n",
              "      <td>0.014766</td>\n",
              "      <td>-0.374343</td>\n",
              "      <td>1.972579</td>\n",
              "    </tr>\n",
              "    <tr>\n",
              "      <th>مشترک عقیق</th>\n",
              "      <td>-0.005205</td>\n",
              "      <td>0.004442</td>\n",
              "      <td>-0.244559</td>\n",
              "      <td>2.501606</td>\n",
              "    </tr>\n",
              "    <tr>\n",
              "      <th>مشترک یکم سامان</th>\n",
              "      <td>0.002553</td>\n",
              "      <td>0.020211</td>\n",
              "      <td>-0.357856</td>\n",
              "      <td>1.745005</td>\n",
              "    </tr>\n",
              "    <tr>\n",
              "      <th>کارگزاری پارسیان</th>\n",
              "      <td>-0.010940</td>\n",
              "      <td>-0.004216</td>\n",
              "      <td>0.068473</td>\n",
              "      <td>3.423158</td>\n",
              "    </tr>\n",
              "  </tbody>\n",
              "</table>\n",
              "</div>"
            ],
            "text/plain": [
              "                                      Alpha(1st)  ...  Return(2nd)\n",
              "Fund Name                                         ...             \n",
              "اندیشه خبرگان سهام                      0.003927  ...     2.351185\n",
              "باران کارگزاری بانک کشاورزی            -0.002413  ...     2.371731\n",
              "بانک دی                                -0.007302  ...     1.471715\n",
              "توسعه صادرات                           -0.006401  ...     2.073266\n",
              "سپهر اول کارگزاری بانک صادرات           0.002102  ...     2.015206\n",
              "صندوق سرمایه‌گذاری آسمان آرمانی سهام   -0.004897  ...     2.012912\n",
              "صندوق سرمایه‌گذاری بانک توسعه تعاون    -0.005382  ...     3.960832\n",
              "صندوق سرمایه‌گذاری فیروزه موفقیت       -0.010780  ...     2.024392\n",
              "صندوق سرمایه‌گذاری مشترک سبحان         -0.007685  ...     1.936450\n",
              "صندوق سرمایه‌گذاری مشترک صبا           -0.001852  ...     2.689101\n",
              "صندوق سرمایه‌گذاری مشترک مبین سرمایه   -0.005357  ...     2.673048\n",
              "صندوق سرمایه‌گذاری مشترک نوید انصار    -0.001374  ...     3.415824\n",
              "صندوق سرمایه‌گذاری گنجینه رفاه         -0.004217  ...     4.023459\n",
              "قابل معامله امين تدبيرگران فردا         0.006942  ...     1.534262\n",
              "مشترک آگاه                             -0.005773  ...     3.142754\n",
              "مشترک بورسیران                         -0.000162  ...     3.961862\n",
              "مشترک رشد سامان                        -0.000761  ...     1.972579\n",
              "مشترک عقیق                             -0.005205  ...     2.501606\n",
              "مشترک یکم سامان                         0.002553  ...     1.745005\n",
              "کارگزاری پارسیان                       -0.010940  ...     3.423158\n",
              "\n",
              "[20 rows x 4 columns]"
            ]
          },
          "metadata": {
            "tags": []
          },
          "execution_count": 30
        }
      ]
    },
    {
      "cell_type": "code",
      "metadata": {
        "id": "nsDWEHoX3V25"
      },
      "source": [
        "# baraye adadhaye balaye miane 1 gharar midahim\n",
        "median = win_lose.median()\n",
        "win_lose = pd.DataFrame(np.where(win_lose > median, 1, 0), index=win_lose.index, columns=win_lose.columns)"
      ],
      "execution_count": null,
      "outputs": []
    },
    {
      "cell_type": "code",
      "metadata": {
        "colab": {
          "base_uri": "https://localhost:8080/",
          "height": 700
        },
        "id": "If7OyZQI8JUL",
        "outputId": "b6ebcb5c-2617-4f84-9495-31dc4618cea3"
      },
      "source": [
        "win_lose"
      ],
      "execution_count": null,
      "outputs": [
        {
          "output_type": "execute_result",
          "data": {
            "text/html": [
              "<div>\n",
              "<style scoped>\n",
              "    .dataframe tbody tr th:only-of-type {\n",
              "        vertical-align: middle;\n",
              "    }\n",
              "\n",
              "    .dataframe tbody tr th {\n",
              "        vertical-align: top;\n",
              "    }\n",
              "\n",
              "    .dataframe thead th {\n",
              "        text-align: right;\n",
              "    }\n",
              "</style>\n",
              "<table border=\"1\" class=\"dataframe\">\n",
              "  <thead>\n",
              "    <tr style=\"text-align: right;\">\n",
              "      <th></th>\n",
              "      <th>Alpha(1st)</th>\n",
              "      <th>Alpha(2nd)</th>\n",
              "      <th>Return(1st)</th>\n",
              "      <th>Return(2nd)</th>\n",
              "    </tr>\n",
              "    <tr>\n",
              "      <th>Fund Name</th>\n",
              "      <th></th>\n",
              "      <th></th>\n",
              "      <th></th>\n",
              "      <th></th>\n",
              "    </tr>\n",
              "  </thead>\n",
              "  <tbody>\n",
              "    <tr>\n",
              "      <th>اندیشه خبرگان سهام</th>\n",
              "      <td>1</td>\n",
              "      <td>1</td>\n",
              "      <td>0</td>\n",
              "      <td>0</td>\n",
              "    </tr>\n",
              "    <tr>\n",
              "      <th>باران کارگزاری بانک کشاورزی</th>\n",
              "      <td>1</td>\n",
              "      <td>0</td>\n",
              "      <td>1</td>\n",
              "      <td>1</td>\n",
              "    </tr>\n",
              "    <tr>\n",
              "      <th>بانک دی</th>\n",
              "      <td>0</td>\n",
              "      <td>1</td>\n",
              "      <td>1</td>\n",
              "      <td>0</td>\n",
              "    </tr>\n",
              "    <tr>\n",
              "      <th>توسعه صادرات</th>\n",
              "      <td>0</td>\n",
              "      <td>1</td>\n",
              "      <td>0</td>\n",
              "      <td>0</td>\n",
              "    </tr>\n",
              "    <tr>\n",
              "      <th>سپهر اول کارگزاری بانک صادرات</th>\n",
              "      <td>1</td>\n",
              "      <td>1</td>\n",
              "      <td>0</td>\n",
              "      <td>0</td>\n",
              "    </tr>\n",
              "    <tr>\n",
              "      <th>صندوق سرمایه‌گذاری آسمان آرمانی سهام</th>\n",
              "      <td>0</td>\n",
              "      <td>1</td>\n",
              "      <td>1</td>\n",
              "      <td>0</td>\n",
              "    </tr>\n",
              "    <tr>\n",
              "      <th>صندوق سرمایه‌گذاری بانک توسعه تعاون</th>\n",
              "      <td>0</td>\n",
              "      <td>0</td>\n",
              "      <td>1</td>\n",
              "      <td>1</td>\n",
              "    </tr>\n",
              "    <tr>\n",
              "      <th>صندوق سرمایه‌گذاری فیروزه موفقیت</th>\n",
              "      <td>0</td>\n",
              "      <td>0</td>\n",
              "      <td>1</td>\n",
              "      <td>0</td>\n",
              "    </tr>\n",
              "    <tr>\n",
              "      <th>صندوق سرمایه‌گذاری مشترک سبحان</th>\n",
              "      <td>0</td>\n",
              "      <td>1</td>\n",
              "      <td>1</td>\n",
              "      <td>0</td>\n",
              "    </tr>\n",
              "    <tr>\n",
              "      <th>صندوق سرمایه‌گذاری مشترک صبا</th>\n",
              "      <td>1</td>\n",
              "      <td>0</td>\n",
              "      <td>0</td>\n",
              "      <td>1</td>\n",
              "    </tr>\n",
              "    <tr>\n",
              "      <th>صندوق سرمایه‌گذاری مشترک مبین سرمایه</th>\n",
              "      <td>0</td>\n",
              "      <td>0</td>\n",
              "      <td>1</td>\n",
              "      <td>1</td>\n",
              "    </tr>\n",
              "    <tr>\n",
              "      <th>صندوق سرمایه‌گذاری مشترک نوید انصار</th>\n",
              "      <td>1</td>\n",
              "      <td>0</td>\n",
              "      <td>0</td>\n",
              "      <td>1</td>\n",
              "    </tr>\n",
              "    <tr>\n",
              "      <th>صندوق سرمایه‌گذاری گنجینه رفاه</th>\n",
              "      <td>1</td>\n",
              "      <td>0</td>\n",
              "      <td>1</td>\n",
              "      <td>1</td>\n",
              "    </tr>\n",
              "    <tr>\n",
              "      <th>قابل معامله امين تدبيرگران فردا</th>\n",
              "      <td>1</td>\n",
              "      <td>1</td>\n",
              "      <td>0</td>\n",
              "      <td>0</td>\n",
              "    </tr>\n",
              "    <tr>\n",
              "      <th>مشترک آگاه</th>\n",
              "      <td>0</td>\n",
              "      <td>0</td>\n",
              "      <td>1</td>\n",
              "      <td>1</td>\n",
              "    </tr>\n",
              "    <tr>\n",
              "      <th>مشترک بورسیران</th>\n",
              "      <td>1</td>\n",
              "      <td>1</td>\n",
              "      <td>0</td>\n",
              "      <td>1</td>\n",
              "    </tr>\n",
              "    <tr>\n",
              "      <th>مشترک رشد سامان</th>\n",
              "      <td>1</td>\n",
              "      <td>1</td>\n",
              "      <td>0</td>\n",
              "      <td>0</td>\n",
              "    </tr>\n",
              "    <tr>\n",
              "      <th>مشترک عقیق</th>\n",
              "      <td>0</td>\n",
              "      <td>0</td>\n",
              "      <td>0</td>\n",
              "      <td>1</td>\n",
              "    </tr>\n",
              "    <tr>\n",
              "      <th>مشترک یکم سامان</th>\n",
              "      <td>1</td>\n",
              "      <td>1</td>\n",
              "      <td>0</td>\n",
              "      <td>0</td>\n",
              "    </tr>\n",
              "    <tr>\n",
              "      <th>کارگزاری پارسیان</th>\n",
              "      <td>0</td>\n",
              "      <td>0</td>\n",
              "      <td>1</td>\n",
              "      <td>1</td>\n",
              "    </tr>\n",
              "  </tbody>\n",
              "</table>\n",
              "</div>"
            ],
            "text/plain": [
              "                                      Alpha(1st)  ...  Return(2nd)\n",
              "Fund Name                                         ...             \n",
              "اندیشه خبرگان سهام                             1  ...            0\n",
              "باران کارگزاری بانک کشاورزی                    1  ...            1\n",
              "بانک دی                                        0  ...            0\n",
              "توسعه صادرات                                   0  ...            0\n",
              "سپهر اول کارگزاری بانک صادرات                  1  ...            0\n",
              "صندوق سرمایه‌گذاری آسمان آرمانی سهام           0  ...            0\n",
              "صندوق سرمایه‌گذاری بانک توسعه تعاون            0  ...            1\n",
              "صندوق سرمایه‌گذاری فیروزه موفقیت               0  ...            0\n",
              "صندوق سرمایه‌گذاری مشترک سبحان                 0  ...            0\n",
              "صندوق سرمایه‌گذاری مشترک صبا                   1  ...            1\n",
              "صندوق سرمایه‌گذاری مشترک مبین سرمایه           0  ...            1\n",
              "صندوق سرمایه‌گذاری مشترک نوید انصار            1  ...            1\n",
              "صندوق سرمایه‌گذاری گنجینه رفاه                 1  ...            1\n",
              "قابل معامله امين تدبيرگران فردا                1  ...            0\n",
              "مشترک آگاه                                     0  ...            1\n",
              "مشترک بورسیران                                 1  ...            1\n",
              "مشترک رشد سامان                                1  ...            0\n",
              "مشترک عقیق                                     0  ...            1\n",
              "مشترک یکم سامان                                1  ...            0\n",
              "کارگزاری پارسیان                               0  ...            1\n",
              "\n",
              "[20 rows x 4 columns]"
            ]
          },
          "metadata": {
            "tags": []
          },
          "execution_count": 32
        }
      ]
    },
    {
      "cell_type": "code",
      "metadata": {
        "colab": {
          "base_uri": "https://localhost:8080/"
        },
        "id": "k3bpqg1G9vDa",
        "outputId": "c08af2b4-42ab-4b34-9a93-3daa68e3793d"
      },
      "source": [
        "win_lose.groupby('Return(1st)')['Return(2nd)'].value_counts()"
      ],
      "execution_count": null,
      "outputs": [
        {
          "output_type": "execute_result",
          "data": {
            "text/plain": [
              "Return(1st)  Return(2nd)\n",
              "0            0              6\n",
              "             1              4\n",
              "1            1              6\n",
              "             0              4\n",
              "Name: Return(2nd), dtype: int64"
            ]
          },
          "metadata": {
            "tags": []
          },
          "execution_count": 33
        }
      ]
    },
    {
      "cell_type": "code",
      "metadata": {
        "colab": {
          "base_uri": "https://localhost:8080/"
        },
        "id": "1ciGA6tq-bGL",
        "outputId": "98664947-d492-4edf-a873-196c5976cb1a"
      },
      "source": [
        "win_lose.groupby('Alpha(1st)')['Alpha(2nd)'].value_counts()"
      ],
      "execution_count": null,
      "outputs": [
        {
          "output_type": "execute_result",
          "data": {
            "text/plain": [
              "Alpha(1st)  Alpha(2nd)\n",
              "0           0             6\n",
              "            1             4\n",
              "1           1             6\n",
              "            0             4\n",
              "Name: Alpha(2nd), dtype: int64"
            ]
          },
          "metadata": {
            "tags": []
          },
          "execution_count": 34
        }
      ]
    }
  ]
}