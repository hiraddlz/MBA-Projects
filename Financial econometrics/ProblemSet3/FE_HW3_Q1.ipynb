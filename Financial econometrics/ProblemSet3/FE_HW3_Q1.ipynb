{
  "nbformat": 4,
  "nbformat_minor": 0,
  "metadata": {
    "colab": {
      "name": "Copy of FE-HW3.ipynb",
      "provenance": [],
      "collapsed_sections": []
    },
    "kernelspec": {
      "name": "python3",
      "display_name": "Python 3"
    },
    "language_info": {
      "name": "python"
    }
  },
  "cells": [
    {
      "cell_type": "markdown",
      "metadata": {
        "id": "aKDGh1mUz92J"
      },
      "source": [
        "Import libraries"
      ]
    },
    {
      "cell_type": "code",
      "metadata": {
        "id": "MZlU-q97DCBW"
      },
      "source": [
        "%%capture\n",
        "!pip install khayyam"
      ],
      "execution_count": 1,
      "outputs": []
    },
    {
      "cell_type": "code",
      "metadata": {
        "id": "bxkl66zKDFP7",
        "colab": {
          "base_uri": "https://localhost:8080/"
        },
        "outputId": "494e267c-5353-4467-b5ab-0d4f124300cc"
      },
      "source": [
        "import pandas as pd\n",
        "import numpy as np\n",
        "from matplotlib import pyplot as plt\n",
        "from khayyam import *\n",
        "from datetime import date, datetime\n",
        "import statsmodels.api as sm"
      ],
      "execution_count": 2,
      "outputs": [
        {
          "output_type": "stream",
          "text": [
            "/usr/local/lib/python3.7/dist-packages/statsmodels/tools/_testing.py:19: FutureWarning: pandas.util.testing is deprecated. Use the functions in the public API at pandas.testing instead.\n",
            "  import pandas.util.testing as tm\n"
          ],
          "name": "stderr"
        }
      ]
    },
    {
      "cell_type": "markdown",
      "metadata": {
        "id": "t1Z2dIeez0mD"
      },
      "source": [
        "# Q1:"
      ]
    },
    {
      "cell_type": "markdown",
      "metadata": {
        "id": "l_WUPKQvm7ud"
      },
      "source": [
        "Get Index data"
      ]
    },
    {
      "cell_type": "code",
      "metadata": {
        "id": "NPmzUDHjmosm"
      },
      "source": [
        "data = pd.read_html('IndexData.xls')\n",
        "arr = np.array(data).reshape(747, 3)\n",
        "IndexData = pd.DataFrame(arr, columns=[\"name\", \"dateissue\", \"Value\"])"
      ],
      "execution_count": 3,
      "outputs": []
    },
    {
      "cell_type": "code",
      "metadata": {
        "id": "WGwQF4KPnT1w"
      },
      "source": [
        "IndexData.drop_duplicates(inplace=True)\n",
        "IndexData = IndexData.sort_values(by='dateissue')\n",
        "# IndexData['Value'] = IndexData['Value'].astype('int64')\n",
        "IndexData['Value'] = IndexData['Value'].astype('float64')"
      ],
      "execution_count": 4,
      "outputs": []
    },
    {
      "cell_type": "code",
      "metadata": {
        "id": "XwM6GkKvtQPM"
      },
      "source": [
        "# Tabdil be JalaliDate\n",
        "IndexData['dateissue'] = IndexData['dateissue'].apply(lambda x: JalaliDate.strptime(str(x), '%Y%m%d'))"
      ],
      "execution_count": 5,
      "outputs": []
    },
    {
      "cell_type": "code",
      "metadata": {
        "id": "l5EvRUxVtQLA"
      },
      "source": [
        "# Joda Kardane Year\n",
        "IndexData['Year'] = IndexData['dateissue'].apply(lambda x: x.year)"
      ],
      "execution_count": 6,
      "outputs": []
    },
    {
      "cell_type": "code",
      "metadata": {
        "id": "WgcO1x2grlYz"
      },
      "source": [
        "# Tabdil be tarikhe miladi\n",
        "IndexData['Date'] = IndexData['dateissue'].apply(lambda x: x.todate())\n",
        "IndexData['Date'] = pd.to_datetime(IndexData['Date'])"
      ],
      "execution_count": 7,
      "outputs": []
    },
    {
      "cell_type": "code",
      "metadata": {
        "id": "O26tPcL4xk-W"
      },
      "source": [
        "IndexData.set_index('Date', inplace=True)"
      ],
      "execution_count": 8,
      "outputs": []
    },
    {
      "cell_type": "code",
      "metadata": {
        "id": "x1IbNzcQ-mHr"
      },
      "source": [
        "# Resample kardane haftegi baraye value\n",
        "Index_returns = IndexData.resample('7D').mean()"
      ],
      "execution_count": 9,
      "outputs": []
    },
    {
      "cell_type": "code",
      "metadata": {
        "id": "mfAPjaGs_wTO"
      },
      "source": [
        "Index_returns['IndexReturns'] = Index_returns['Value'].pct_change()"
      ],
      "execution_count": 10,
      "outputs": []
    },
    {
      "cell_type": "code",
      "metadata": {
        "id": "GYH86h7F-vLa"
      },
      "source": [
        "Index_97 = Index_returns[Index_returns['Year']==1397]\n",
        "Index_98 = Index_returns[Index_returns['Year']==1398]\n",
        "Index_99 = Index_returns[Index_returns['Year']==1399]"
      ],
      "execution_count": 11,
      "outputs": []
    },
    {
      "cell_type": "code",
      "metadata": {
        "id": "xvUe4kkfvnwL"
      },
      "source": [
        "del Index_97['Year'], Index_97['Value']\n",
        "del Index_98['Year'], Index_98['Value']\n",
        "del Index_99['Year'], Index_99['Value']"
      ],
      "execution_count": 12,
      "outputs": []
    },
    {
      "cell_type": "markdown",
      "metadata": {
        "id": "xK1AnrMu8Icq"
      },
      "source": [
        "Convert to numpy array"
      ]
    },
    {
      "cell_type": "code",
      "metadata": {
        "id": "FaYHnupk8A03"
      },
      "source": [
        "Index_97 = np.array(Index_97)\n",
        "Index_98 = np.array(Index_98)\n",
        "Index_99 = np.array(Index_99)"
      ],
      "execution_count": 13,
      "outputs": []
    },
    {
      "cell_type": "markdown",
      "metadata": {
        "id": "WOJlfi0hAHGs"
      },
      "source": [
        "Risk free calculation"
      ]
    },
    {
      "cell_type": "code",
      "metadata": {
        "id": "ABobAY32AJT5"
      },
      "source": [
        "rf_97 = np.full(Index_97.shape, 0.00414533)\n",
        "rf_98 = np.full(Index_98.shape, 0.00351234)\n",
        "rf_99 = np.full(Index_98.shape, 0.00318804)\n",
        "rf_99[26:] = 0.0036725"
      ],
      "execution_count": 14,
      "outputs": []
    },
    {
      "cell_type": "markdown",
      "metadata": {
        "id": "vUOrG_RSoNjB"
      },
      "source": [
        "Get stocks data Function"
      ]
    },
    {
      "cell_type": "code",
      "metadata": {
        "id": "lnEaN7mIfpvf"
      },
      "source": [
        "def get_stock_data(FileAdress):\n",
        "  # Baz kardane file\n",
        "  df = pd.read_csv(FileAdress)\n",
        "  # Tabdil kardane tarikhe miladi\n",
        "  df['<DTYYYYMMDD>'] = pd.to_datetime(df['<DTYYYYMMDD>'], format='%Y%m%d')\n",
        "  # Joda kardane 3 saal (97, 98, 99) az file\n",
        "  df = df.iloc[:723,:]\n",
        "  # Tabdil be tarikhe shamsi:\n",
        "  df['تاریخ شمسی'] = df['<DTYYYYMMDD>'].apply(lambda x : JalaliDate(x).strftime('%Y %m %d'))\n",
        "  # Sakhtane sotoone year:\n",
        "  df['year'] = df['تاریخ شمسی'].str.split().str.get(0).astype('int64')\n",
        "  # Resample kardane data be soorate haftegi:\n",
        "  stock_data = df.resample('7D', on='<DTYYYYMMDD>').mean()\n",
        "  # Mohasebe Return haftegi sahm:\n",
        "  stock_data['StockReturns'] = stock_data['<CLOSE>'].pct_change()\n",
        "  del stock_data['<CLOSE>']\n",
        "  # Sakhtane 3 list Return baraye 3 sal (97, 98, 99):\n",
        "  weekly_97 = stock_data[stock_data['year']==1397]\n",
        "  weekly_98 = stock_data[stock_data['year']==1398]\n",
        "  weekly_99 = stock_data[stock_data['year']==1399]\n",
        "  del weekly_97['year']\n",
        "  del weekly_98['year']\n",
        "  del weekly_99['year']\n",
        "  return np.array(weekly_97), np.array(weekly_98), np.array(weekly_99)"
      ],
      "execution_count": 15,
      "outputs": []
    },
    {
      "cell_type": "markdown",
      "metadata": {
        "id": "T6VwcyE5bgN1"
      },
      "source": [
        "Gereftane etelaate saham:"
      ]
    },
    {
      "cell_type": "code",
      "metadata": {
        "id": "iVy2_oiLFLvL"
      },
      "source": [
        "Hkeshti_97, Hkeshti_98, Hkeshti_99 = get_stock_data('S IRI Marine Co.-a.csv')\n",
        "Hamrah_97, Hamrah_98, Hamrah_99 = get_stock_data('Iran Mobil Tele-a.csv')\n",
        "Fmeli_97, Fmeli_98, Fmeli_99 = get_stock_data('S I. N. C. Ind.-a.csv')\n",
        "Shpna_97, Shpna_98, Shpna_99 = get_stock_data('S Isf. Oil Ref.Co.-a.csv')"
      ],
      "execution_count": 16,
      "outputs": []
    },
    {
      "cell_type": "markdown",
      "metadata": {
        "id": "vEJ7OZwIbtzt"
      },
      "source": [
        "Sakhtane Portfolio:"
      ]
    },
    {
      "cell_type": "code",
      "metadata": {
        "id": "AThKCk5dbx9W"
      },
      "source": [
        "Portfo_97=np.mean([Hkeshti_97, Hamrah_97, Fmeli_97, Shpna_97], axis=0)\n",
        "Portfo_98=np.mean([Hkeshti_98, Hamrah_98, Fmeli_98, Shpna_98], axis=0)\n",
        "Portfo_99=np.mean([Hkeshti_99, Hamrah_99, Fmeli_99, Shpna_99], axis=0)"
      ],
      "execution_count": 17,
      "outputs": []
    },
    {
      "cell_type": "markdown",
      "metadata": {
        "id": "mSeARHVoShjR"
      },
      "source": [
        "## CAPM calculation"
      ]
    },
    {
      "cell_type": "code",
      "metadata": {
        "id": "jHdoZt4V64xk"
      },
      "source": [
        "def CAPM(stock_97, stock_98, stock_99):\n",
        "\n",
        "  \"\"\"\n",
        "  Khorooji tabe 2 DataFrame ast.\n",
        "  DataFrame aval etelaate capm beta bedoone intercept ra darad.\n",
        "  DataFrame dovom etelaate capm beta ba intercept ra darad.\n",
        "  \"\"\"\n",
        "\n",
        "  \"\"\"Calculate beta without constant\"\"\"\n",
        "  year=[97,98,99]\n",
        "  beta=[]\n",
        "  p_value=[]\n",
        "  # year 97:\n",
        "  model = sm.OLS(Index_97-rf_97, stock_97-rf_97, missing='drop').fit()\n",
        "  beta.append(model.params[0])\n",
        "  p_value.append(model.pvalues[0])\n",
        "  # year 98:\n",
        "  model = sm.OLS(Index_98-rf_98, stock_98-rf_98, missing='drop').fit()\n",
        "  beta.append(model.params[0])\n",
        "  p_value.append(model.pvalues[0])\n",
        "  # year 99:\n",
        "  model = sm.OLS(Index_99-rf_99, stock_99-rf_99, missing='drop').fit()\n",
        "  beta.append(model.params[0])\n",
        "  p_value.append(model.pvalues[0])\n",
        "  # Making DataFrame: \n",
        "  df1 = pd.DataFrame({\n",
        "      'year':year,\n",
        "      'beta':beta,\n",
        "      'P-value':p_value\n",
        "  })\n",
        "\n",
        "  \"\"\"Calculate alpha and beta\"\"\"\n",
        "  alpha = []\n",
        "  alpha_p_value = []\n",
        "  beta = []\n",
        "  beta_p_value = []\n",
        "  # year 97:\n",
        "  w97_wc = sm.add_constant(stock_97-rf_97)\n",
        "  model = sm.OLS(Index_97-rf_97, w97_wc, missing='drop').fit()\n",
        "  alpha.append(model.params[0])\n",
        "  alpha_p_value.append(model.pvalues[0])\n",
        "  beta.append(model.params[1])\n",
        "  beta_p_value.append(model.pvalues[1])\n",
        "  # year 98:\n",
        "  w98_wc = sm.add_constant(stock_98-rf_98)\n",
        "  model = sm.OLS(Index_98-rf_98, w98_wc, missing='drop').fit()\n",
        "  alpha.append(model.params[0])\n",
        "  alpha_p_value.append(model.pvalues[0])\n",
        "  beta.append(model.params[1])\n",
        "  beta_p_value.append(model.pvalues[1])\n",
        "  # year 99:\n",
        "  w99_wc = sm.add_constant(stock_99-rf_99)\n",
        "  model = sm.OLS(Index_99-rf_99, w99_wc, missing='drop').fit()\n",
        "  alpha.append(model.params[0])\n",
        "  alpha_p_value.append(model.pvalues[0])\n",
        "  beta.append(model.params[1])\n",
        "  beta_p_value.append(model.pvalues[1])\n",
        "  # Making DataFrame: \n",
        "  df2 = pd.DataFrame({\n",
        "      'year':year,\n",
        "      'alpha':alpha,\n",
        "      'alpha P-value':alpha_p_value,\n",
        "      'beta':beta,\n",
        "      'beta P-value':beta_p_value\n",
        "  })\n",
        "  return df1, df2"
      ],
      "execution_count": 18,
      "outputs": []
    },
    {
      "cell_type": "code",
      "metadata": {
        "id": "W34HSBSjsNNs"
      },
      "source": [
        "capm_hkeshti_1, capm_hkeshti_2 = CAPM(Hkeshti_97, Hkeshti_98, Hkeshti_99)\n",
        "capm_hamrah_1, capm_hamrah_2 = CAPM(Hamrah_97, Hamrah_98, Hamrah_99)\n",
        "capm_fmeli_1, capm_fmeli_2 = CAPM(Fmeli_97, Fmeli_98, Fmeli_99)\n",
        "capm_shpna_1, capm_shpna_2 = CAPM(Shpna_97, Shpna_98, Shpna_99)\n",
        "capm_portfo_1, capm_portfo_2 = CAPM(Portfo_97, Portfo_98, Portfo_99)"
      ],
      "execution_count": 19,
      "outputs": []
    },
    {
      "cell_type": "markdown",
      "metadata": {
        "id": "CSyz8RisPO7u"
      },
      "source": [
        "Print results:"
      ]
    },
    {
      "cell_type": "code",
      "metadata": {
        "id": "QXgvEXjfhNrr"
      },
      "source": [
        "def print_capm_results(stock_name, df1, df2):\n",
        "  print('-'*20+stock_name+'-'*20)\n",
        "  print('   CAPM results without constant:\\n')\n",
        "  print(df1)\n",
        "  print('-'*30)\n",
        "  print('\\n   CAPM results with constant:\\n')\n",
        "  print(df2)\n",
        "  print('\\n')"
      ],
      "execution_count": 20,
      "outputs": []
    },
    {
      "cell_type": "code",
      "metadata": {
        "colab": {
          "base_uri": "https://localhost:8080/"
        },
        "id": "ErQ1ny9yiQzD",
        "outputId": "b0222e23-1053-4626-e96b-8777f650bc77"
      },
      "source": [
        "print_capm_results('Hkeshti', capm_hkeshti_1, capm_hkeshti_2)\n",
        "print_capm_results('Hamrah', capm_hamrah_1, capm_hamrah_2)\n",
        "print_capm_results('Fmeli', capm_fmeli_1, capm_fmeli_2)\n",
        "print_capm_results('Shpna', capm_shpna_1, capm_shpna_2)\n",
        "print_capm_results('Portfolio', capm_portfo_1, capm_portfo_2)"
      ],
      "execution_count": 21,
      "outputs": [
        {
          "output_type": "stream",
          "text": [
            "--------------------Hkeshti--------------------\n",
            "   CAPM results without constant:\n",
            "\n",
            "   year      beta       P-value\n",
            "0    97  0.453044  1.041864e-05\n",
            "1    98  0.261405  5.177327e-08\n",
            "2    99  0.470267  8.657546e-10\n",
            "------------------------------\n",
            "\n",
            "   CAPM results with constant:\n",
            "\n",
            "   year     alpha  alpha P-value      beta  beta P-value\n",
            "0    97  0.008026       0.084110  0.450486  8.417514e-06\n",
            "1    98  0.012038       0.000431  0.220025  4.951598e-07\n",
            "2    99  0.011114       0.094168  0.458411  1.394816e-09\n",
            "\n",
            "\n",
            "--------------------Hamrah--------------------\n",
            "   CAPM results without constant:\n",
            "\n",
            "   year      beta       P-value\n",
            "0    97  0.634844  2.743818e-03\n",
            "1    98  0.350657  2.915668e-03\n",
            "2    99  0.530868  8.631280e-10\n",
            "------------------------------\n",
            "\n",
            "   CAPM results with constant:\n",
            "\n",
            "   year     alpha  alpha P-value      beta  beta P-value\n",
            "0    97  0.008190       0.113609  0.630919  2.544302e-03\n",
            "1    98  0.014550       0.000701  0.219868  4.542707e-02\n",
            "2    99  0.011423       0.084891  0.517908  1.276340e-09\n",
            "\n",
            "\n",
            "--------------------Fmeli--------------------\n",
            "   CAPM results without constant:\n",
            "\n",
            "   year      beta       P-value\n",
            "0    97  0.527606  1.264644e-12\n",
            "1    98  0.553113  3.385264e-09\n",
            "2    99  0.540048  6.528304e-16\n",
            "------------------------------\n",
            "\n",
            "   CAPM results with constant:\n",
            "\n",
            "   year     alpha  alpha P-value      beta  beta P-value\n",
            "0    97  0.002718       0.437289  0.519511  4.760862e-12\n",
            "1    98  0.010241       0.002527  0.464179  1.831170e-07\n",
            "2    99  0.001040       0.843855  0.537462  5.634500e-15\n",
            "\n",
            "\n",
            "--------------------Shpna--------------------\n",
            "   CAPM results without constant:\n",
            "\n",
            "   year      beta       P-value\n",
            "0    97  0.480695  2.432461e-12\n",
            "1    98  0.413583  4.240376e-05\n",
            "2    99  0.458783  8.317680e-15\n",
            "------------------------------\n",
            "\n",
            "   CAPM results with constant:\n",
            "\n",
            "   year     alpha  alpha P-value      beta  beta P-value\n",
            "0    97  0.001511       0.673020  0.475671  1.123875e-11\n",
            "1    98  0.014858       0.000061  0.355290  5.321949e-05\n",
            "2    99  0.002873       0.601899  0.453176  6.076120e-14\n",
            "\n",
            "\n",
            "--------------------Portfolio--------------------\n",
            "   CAPM results without constant:\n",
            "\n",
            "   year      beta       P-value\n",
            "0    97  0.952121  5.248430e-21\n",
            "1    98  0.833269  2.244657e-18\n",
            "2    99  0.703809  1.454043e-24\n",
            "------------------------------\n",
            "\n",
            "   CAPM results with constant:\n",
            "\n",
            "   year     alpha  alpha P-value      beta  beta P-value\n",
            "0    97  0.002146       0.366868  0.942428  2.590727e-20\n",
            "1    98  0.006138       0.008696  0.758460  5.394377e-16\n",
            "2    99  0.002464       0.485134  0.697772  1.465227e-23\n",
            "\n",
            "\n"
          ],
          "name": "stdout"
        }
      ]
    },
    {
      "cell_type": "markdown",
      "metadata": {
        "id": "RPK-vspXH3yr"
      },
      "source": [
        "## Part C: Risk"
      ]
    },
    {
      "cell_type": "markdown",
      "metadata": {
        "id": "hcw4XHZlIRsS"
      },
      "source": [
        "Market Risk"
      ]
    },
    {
      "cell_type": "code",
      "metadata": {
        "id": "B8EGZ7WjJu6Y"
      },
      "source": [
        "year = [97, 98, 99]\n",
        "market_risks = [np.nanstd(Index_97), np.nanstd(Index_98), np.nanstd(Index_99)]"
      ],
      "execution_count": 22,
      "outputs": []
    },
    {
      "cell_type": "code",
      "metadata": {
        "id": "zG1SPxP8rZ9m"
      },
      "source": [
        "market_risk = pd.DataFrame({\n",
        "    'Year':year,\n",
        "    'Market Risk': market_risks\n",
        "})"
      ],
      "execution_count": 23,
      "outputs": []
    },
    {
      "cell_type": "code",
      "metadata": {
        "colab": {
          "base_uri": "https://localhost:8080/",
          "height": 142
        },
        "id": "t48eQfPcrpp2",
        "outputId": "2d5106e2-16b3-44ed-b721-9c2f1caf716b"
      },
      "source": [
        "market_risk"
      ],
      "execution_count": 24,
      "outputs": [
        {
          "output_type": "execute_result",
          "data": {
            "text/html": [
              "<div>\n",
              "<style scoped>\n",
              "    .dataframe tbody tr th:only-of-type {\n",
              "        vertical-align: middle;\n",
              "    }\n",
              "\n",
              "    .dataframe tbody tr th {\n",
              "        vertical-align: top;\n",
              "    }\n",
              "\n",
              "    .dataframe thead th {\n",
              "        text-align: right;\n",
              "    }\n",
              "</style>\n",
              "<table border=\"1\" class=\"dataframe\">\n",
              "  <thead>\n",
              "    <tr style=\"text-align: right;\">\n",
              "      <th></th>\n",
              "      <th>Year</th>\n",
              "      <th>Market Risk</th>\n",
              "    </tr>\n",
              "  </thead>\n",
              "  <tbody>\n",
              "    <tr>\n",
              "      <th>0</th>\n",
              "      <td>97</td>\n",
              "      <td>0.039088</td>\n",
              "    </tr>\n",
              "    <tr>\n",
              "      <th>1</th>\n",
              "      <td>98</td>\n",
              "      <td>0.027906</td>\n",
              "    </tr>\n",
              "    <tr>\n",
              "      <th>2</th>\n",
              "      <td>99</td>\n",
              "      <td>0.066170</td>\n",
              "    </tr>\n",
              "  </tbody>\n",
              "</table>\n",
              "</div>"
            ],
            "text/plain": [
              "   Year  Market Risk\n",
              "0    97     0.039088\n",
              "1    98     0.027906\n",
              "2    99     0.066170"
            ]
          },
          "metadata": {
            "tags": []
          },
          "execution_count": 24
        }
      ]
    },
    {
      "cell_type": "markdown",
      "metadata": {
        "id": "hwNaHx4HWFG8"
      },
      "source": [
        "systematik risk"
      ]
    },
    {
      "cell_type": "code",
      "metadata": {
        "id": "9yQequb-rW3Z"
      },
      "source": [
        "s_hkeshti = []\n",
        "s_hamrah = []\n",
        "s_fmeli = []\n",
        "s_shpna = []\n",
        "s_portfo = []"
      ],
      "execution_count": 25,
      "outputs": []
    },
    {
      "cell_type": "code",
      "metadata": {
        "id": "TMi76UglRrLs"
      },
      "source": [
        "for i in range(3):\n",
        "  s_hkeshti.append(market_risks[i] * capm_hkeshti_1.loc[i,'beta'])\n",
        "  s_hamrah.append(market_risks[i] * capm_hamrah_1.loc[i,'beta'])\n",
        "  s_fmeli.append(market_risks[i] * capm_fmeli_1.loc[i,'beta'])\n",
        "  s_shpna.append(market_risks[i] * capm_shpna_1.loc[i,'beta'])\n",
        "  s_portfo.append(market_risks[i] * capm_portfo_1.loc[i,'beta'])"
      ],
      "execution_count": 26,
      "outputs": []
    },
    {
      "cell_type": "code",
      "metadata": {
        "id": "10o_k8Cktf0V"
      },
      "source": [
        "systematic_risks = pd.DataFrame({\n",
        "    'Year': year,\n",
        "    'Hkeshti' : s_hkeshti,\n",
        "    'Hamrah' : s_hamrah,\n",
        "    'Fmeli' : s_fmeli,\n",
        "    'Shpna' : s_shpna,\n",
        "    'Portfolio' : s_portfo\n",
        "})"
      ],
      "execution_count": 27,
      "outputs": []
    },
    {
      "cell_type": "code",
      "metadata": {
        "colab": {
          "base_uri": "https://localhost:8080/"
        },
        "id": "fzCn_Sp8ujw1",
        "outputId": "00b96646-db6d-4538-fd79-61bc670c0d9f"
      },
      "source": [
        "print('\\tSystematic Risks:\\n')\n",
        "print(systematic_risks)"
      ],
      "execution_count": 28,
      "outputs": [
        {
          "output_type": "stream",
          "text": [
            "\tSystematic Risks:\n",
            "\n",
            "   Year   Hkeshti    Hamrah     Fmeli     Shpna  Portfolio\n",
            "0    97  0.017709  0.024815  0.020623  0.018789   0.037217\n",
            "1    98  0.007295  0.009785  0.015435  0.011541   0.023253\n",
            "2    99  0.031117  0.035127  0.035735  0.030357   0.046571\n"
          ],
          "name": "stdout"
        }
      ]
    },
    {
      "cell_type": "markdown",
      "metadata": {
        "id": "X6opFEsNWIwB"
      },
      "source": [
        "unsystematik risk"
      ]
    },
    {
      "cell_type": "code",
      "metadata": {
        "id": "O3JVLgPzrypg"
      },
      "source": [
        "us_hkeshti = []\n",
        "us_hamrah = []\n",
        "us_fmeli = []\n",
        "us_shpna = []\n",
        "us_portfo = []"
      ],
      "execution_count": 29,
      "outputs": []
    },
    {
      "cell_type": "code",
      "metadata": {
        "id": "X5cnFdKiSO-M"
      },
      "source": [
        "for i in range(3):\n",
        "  us_hkeshti.append(\n",
        "      (np.nanvar(get_stock_data('S IRI Marine Co.-a.csv')[i]) - s_hkeshti[i]**2)**(0.5)\n",
        "  )\n",
        "  us_hamrah.append(\n",
        "      (np.nanvar(get_stock_data('S IRI Marine Co.-a.csv')[i]) - s_hamrah[i]**2)**(0.5)\n",
        "  )\n",
        "  us_fmeli.append(\n",
        "      (np.nanvar(get_stock_data('S IRI Marine Co.-a.csv')[i]) - s_fmeli[i]**2)**(0.5)\n",
        "  )\n",
        "  us_shpna.append(\n",
        "      (np.nanvar(get_stock_data('S IRI Marine Co.-a.csv')[i]) - s_shpna[i]**2)**(0.5)\n",
        "  )"
      ],
      "execution_count": 30,
      "outputs": []
    },
    {
      "cell_type": "code",
      "metadata": {
        "id": "WH9LizHJ1JIP"
      },
      "source": [
        "# unsystematic risk of portfolio:\n",
        "us_portfo.append(\n",
        "    np.sqrt(np.nanvar(Portfo_97) - s_portfo[0]**2)\n",
        ")\n",
        "us_portfo.append(\n",
        "    np.sqrt(np.nanvar(Portfo_98) - s_portfo[1]**2)\n",
        ")\n",
        "us_portfo.append(\n",
        "    np.sqrt(np.nanvar(Portfo_99) - s_portfo[2]**2)\n",
        ")"
      ],
      "execution_count": 31,
      "outputs": []
    },
    {
      "cell_type": "code",
      "metadata": {
        "id": "6lmJaM9rVozL"
      },
      "source": [
        "unsystematic_risks = pd.DataFrame({\n",
        "    'Year': year,\n",
        "    'Hkeshti' : us_hkeshti,\n",
        "    'Hamrah' : us_hamrah,\n",
        "    'Fmeli' : us_fmeli,\n",
        "    'Shpna' : us_shpna,\n",
        "    'Portfolio' : us_portfo\n",
        "})"
      ],
      "execution_count": 32,
      "outputs": []
    },
    {
      "cell_type": "code",
      "metadata": {
        "colab": {
          "base_uri": "https://localhost:8080/"
        },
        "id": "oGe2m1gKWrPR",
        "outputId": "16f0648d-6d06-48ae-f5ab-c5362783b638"
      },
      "source": [
        "print('\\tUnSystematic Risks:\\n')\n",
        "print(unsystematic_risks)"
      ],
      "execution_count": 33,
      "outputs": [
        {
          "output_type": "stream",
          "text": [
            "\tUnSystematic Risks:\n",
            "\n",
            "   Year   Hkeshti    Hamrah     Fmeli     Shpna  Portfolio\n",
            "0    97  0.047046  0.043717  0.045843  0.046625   0.006159\n",
            "1    98  0.079862  0.079596  0.078696  0.079360   0.021285\n",
            "2    99  0.099721  0.098381  0.098162  0.099955   0.075066\n"
          ],
          "name": "stdout"
        }
      ]
    }
  ]
}