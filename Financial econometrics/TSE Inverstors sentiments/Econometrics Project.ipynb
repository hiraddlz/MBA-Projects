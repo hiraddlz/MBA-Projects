{
 "cells": [
  {
   "cell_type": "markdown",
   "id": "broad-float",
   "metadata": {},
   "source": [
    "# import libraries"
   ]
  },
  {
   "cell_type": "code",
   "execution_count": 5,
   "id": "fitting-rapid",
   "metadata": {},
   "outputs": [],
   "source": [
    "# %%capture\n",
    "# !pip install tqdm\n",
    "# !pip install pytse-client\n",
    "# !pip install Khayyam"
   ]
  },
  {
   "cell_type": "code",
   "execution_count": 71,
   "id": "boring-criminal",
   "metadata": {},
   "outputs": [],
   "source": [
    "import pandas as pd\n",
    "import numpy as np\n",
    "import matplotlib.pyplot as plt\n",
    "%matplotlib inline"
   ]
  },
  {
   "cell_type": "code",
   "execution_count": 3,
   "id": "peripheral-mongolia",
   "metadata": {},
   "outputs": [],
   "source": [
    "from datetime import datetime, timedelta"
   ]
  },
  {
   "cell_type": "code",
   "execution_count": 4,
   "id": "comparative-chaos",
   "metadata": {},
   "outputs": [],
   "source": [
    "from scipy import stats"
   ]
  },
  {
   "cell_type": "code",
   "execution_count": 29,
   "id": "corrected-miami",
   "metadata": {},
   "outputs": [],
   "source": [
    "import statsmodels.formula.api as smf"
   ]
  },
  {
   "cell_type": "code",
   "execution_count": 2,
   "id": "flexible-package",
   "metadata": {},
   "outputs": [],
   "source": [
    "import pytse_client as tse"
   ]
  },
  {
   "cell_type": "code",
   "execution_count": 6,
   "id": "alive-competition",
   "metadata": {},
   "outputs": [],
   "source": [
    "from tqdm import tqdm"
   ]
  },
  {
   "cell_type": "code",
   "execution_count": 48,
   "id": "compatible-forum",
   "metadata": {},
   "outputs": [
    {
     "name": "stderr",
     "output_type": "stream",
     "text": [
      "c:\\users\\lenovo g5080\\appdata\\local\\programs\\python\\python39\\lib\\site-packages\\khayyam\\algorithms.py:18: UserWarning: The C extension is not available. Switching to fallback python pure algorithms,so it's about 1000X slower than C implementation of the algorithms.\n",
      "  warnings.warn(\n"
     ]
    }
   ],
   "source": [
    "from khayyam import *"
   ]
  },
  {
   "cell_type": "markdown",
   "id": "wanted-employment",
   "metadata": {},
   "source": [
    "# Index data"
   ]
  },
  {
   "cell_type": "code",
   "execution_count": 7,
   "id": "stock-western",
   "metadata": {},
   "outputs": [],
   "source": [
    "index = pd.read_csv(\"IRX6XTPI0009.csv\",encoding='UTF-16 LE', parse_dates=True, index_col='<DTYYYYMMDD>')\n",
    "del index['<TICKER>']\n",
    "index.columns = ['index']\n",
    "# Calculate return\n",
    "index['index_return'] = index['index'].pct_change()"
   ]
  },
  {
   "cell_type": "markdown",
   "id": "trained-firewall",
   "metadata": {},
   "source": [
    "## calculate six lags for index"
   ]
  },
  {
   "cell_type": "code",
   "execution_count": 8,
   "id": "sized-bahrain",
   "metadata": {},
   "outputs": [],
   "source": [
    "for i in range(1,7):\n",
    "    column_name = 'index_return_t_'+str(i)\n",
    "    index[column_name] = index['index_return'].shift(i)"
   ]
  },
  {
   "cell_type": "code",
   "execution_count": 9,
   "id": "surprising-connection",
   "metadata": {},
   "outputs": [
    {
     "data": {
      "text/html": [
       "<div>\n",
       "<style scoped>\n",
       "    .dataframe tbody tr th:only-of-type {\n",
       "        vertical-align: middle;\n",
       "    }\n",
       "\n",
       "    .dataframe tbody tr th {\n",
       "        vertical-align: top;\n",
       "    }\n",
       "\n",
       "    .dataframe thead th {\n",
       "        text-align: right;\n",
       "    }\n",
       "</style>\n",
       "<table border=\"1\" class=\"dataframe\">\n",
       "  <thead>\n",
       "    <tr style=\"text-align: right;\">\n",
       "      <th></th>\n",
       "      <th>index</th>\n",
       "      <th>index_return</th>\n",
       "      <th>index_return_t_1</th>\n",
       "      <th>index_return_t_2</th>\n",
       "      <th>index_return_t_3</th>\n",
       "      <th>index_return_t_4</th>\n",
       "      <th>index_return_t_5</th>\n",
       "      <th>index_return_t_6</th>\n",
       "    </tr>\n",
       "    <tr>\n",
       "      <th>&lt;DTYYYYMMDD&gt;</th>\n",
       "      <th></th>\n",
       "      <th></th>\n",
       "      <th></th>\n",
       "      <th></th>\n",
       "      <th></th>\n",
       "      <th></th>\n",
       "      <th></th>\n",
       "      <th></th>\n",
       "    </tr>\n",
       "  </thead>\n",
       "  <tbody>\n",
       "    <tr>\n",
       "      <th>2021-07-28</th>\n",
       "      <td>1316516.4</td>\n",
       "      <td>0.001188</td>\n",
       "      <td>-0.006376</td>\n",
       "      <td>0.009238</td>\n",
       "      <td>0.006417</td>\n",
       "      <td>-0.006333</td>\n",
       "      <td>0.004389</td>\n",
       "      <td>0.001204</td>\n",
       "    </tr>\n",
       "    <tr>\n",
       "      <th>2021-07-31</th>\n",
       "      <td>1351467.5</td>\n",
       "      <td>0.026548</td>\n",
       "      <td>0.001188</td>\n",
       "      <td>-0.006376</td>\n",
       "      <td>0.009238</td>\n",
       "      <td>0.006417</td>\n",
       "      <td>-0.006333</td>\n",
       "      <td>0.004389</td>\n",
       "    </tr>\n",
       "    <tr>\n",
       "      <th>2021-08-01</th>\n",
       "      <td>1360281.2</td>\n",
       "      <td>0.006522</td>\n",
       "      <td>0.026548</td>\n",
       "      <td>0.001188</td>\n",
       "      <td>-0.006376</td>\n",
       "      <td>0.009238</td>\n",
       "      <td>0.006417</td>\n",
       "      <td>-0.006333</td>\n",
       "    </tr>\n",
       "    <tr>\n",
       "      <th>2021-08-02</th>\n",
       "      <td>1357969.2</td>\n",
       "      <td>-0.001700</td>\n",
       "      <td>0.006522</td>\n",
       "      <td>0.026548</td>\n",
       "      <td>0.001188</td>\n",
       "      <td>-0.006376</td>\n",
       "      <td>0.009238</td>\n",
       "      <td>0.006417</td>\n",
       "    </tr>\n",
       "    <tr>\n",
       "      <th>2021-08-03</th>\n",
       "      <td>1375612.5</td>\n",
       "      <td>0.012992</td>\n",
       "      <td>-0.001700</td>\n",
       "      <td>0.006522</td>\n",
       "      <td>0.026548</td>\n",
       "      <td>0.001188</td>\n",
       "      <td>-0.006376</td>\n",
       "      <td>0.009238</td>\n",
       "    </tr>\n",
       "  </tbody>\n",
       "</table>\n",
       "</div>"
      ],
      "text/plain": [
       "                  index  index_return  index_return_t_1  index_return_t_2  \\\n",
       "<DTYYYYMMDD>                                                                \n",
       "2021-07-28    1316516.4      0.001188         -0.006376          0.009238   \n",
       "2021-07-31    1351467.5      0.026548          0.001188         -0.006376   \n",
       "2021-08-01    1360281.2      0.006522          0.026548          0.001188   \n",
       "2021-08-02    1357969.2     -0.001700          0.006522          0.026548   \n",
       "2021-08-03    1375612.5      0.012992         -0.001700          0.006522   \n",
       "\n",
       "              index_return_t_3  index_return_t_4  index_return_t_5  \\\n",
       "<DTYYYYMMDD>                                                         \n",
       "2021-07-28            0.006417         -0.006333          0.004389   \n",
       "2021-07-31            0.009238          0.006417         -0.006333   \n",
       "2021-08-01           -0.006376          0.009238          0.006417   \n",
       "2021-08-02            0.001188         -0.006376          0.009238   \n",
       "2021-08-03            0.026548          0.001188         -0.006376   \n",
       "\n",
       "              index_return_t_6  \n",
       "<DTYYYYMMDD>                    \n",
       "2021-07-28            0.001204  \n",
       "2021-07-31            0.004389  \n",
       "2021-08-01           -0.006333  \n",
       "2021-08-02            0.006417  \n",
       "2021-08-03            0.009238  "
      ]
     },
     "execution_count": 9,
     "metadata": {},
     "output_type": "execute_result"
    }
   ],
   "source": [
    "index.tail()"
   ]
  },
  {
   "cell_type": "code",
   "execution_count": 10,
   "id": "useful-adobe",
   "metadata": {},
   "outputs": [],
   "source": [
    "# list of all dates\n",
    "dates = index.index"
   ]
  },
  {
   "cell_type": "markdown",
   "id": "derived-folks",
   "metadata": {},
   "source": [
    "# Fuction for getting stocks data and make dataframe"
   ]
  },
  {
   "cell_type": "code",
   "execution_count": 11,
   "id": "handmade-liberia",
   "metadata": {},
   "outputs": [],
   "source": [
    "def get_data(ticker_name = \"وبملت\", start_date = \"2018-03-25\"):\n",
    "    \"\"\"\n",
    "    return: df:dataframe\n",
    "        columns:\n",
    "            adjClose\n",
    "            return\n",
    "            historic volatility\n",
    "    \"\"\"\n",
    "    ticker = tse.Ticker(ticker_name)\n",
    "    df = ticker.history[['date','adjClose']] #get history\n",
    "    # Set datetime index\n",
    "    df = df.set_index(pd.to_datetime(df['date']))\n",
    "    del df['date']\n",
    "    # Compute daily return\n",
    "    df['return'] = df['adjClose'].pct_change()\n",
    "    # Compute historic volatility\n",
    "    df['historic_volatility'] = df['return'].rolling(5).std()\n",
    "    df =df.loc[start_date:]\n",
    "    return df"
   ]
  },
  {
   "cell_type": "markdown",
   "id": "marked-tooth",
   "metadata": {},
   "source": [
    "# get a list of all stocks' name"
   ]
  },
  {
   "cell_type": "code",
   "execution_count": 12,
   "id": "hazardous-apparel",
   "metadata": {},
   "outputs": [],
   "source": [
    "import requests"
   ]
  },
  {
   "cell_type": "code",
   "execution_count": 13,
   "id": "alive-bouquet",
   "metadata": {},
   "outputs": [],
   "source": [
    "r = requests.get('https://data.nadpco.com/v1/BaseInfo/Companies')"
   ]
  },
  {
   "cell_type": "code",
   "execution_count": 14,
   "id": "burning-christopher",
   "metadata": {},
   "outputs": [],
   "source": [
    "companies = pd.DataFrame(r.json())\n",
    "# companies.head()"
   ]
  },
  {
   "cell_type": "code",
   "execution_count": 15,
   "id": "further-sympathy",
   "metadata": {},
   "outputs": [],
   "source": [
    "# make a list of MarketName == 'بورس'\n",
    "tickers_list = list(companies[companies['MarketName'] == 'بورس']['CoTSESymbol'])"
   ]
  },
  {
   "cell_type": "code",
   "execution_count": 16,
   "id": "unsigned-submission",
   "metadata": {},
   "outputs": [],
   "source": [
    "# change arabic alphabets\n",
    "tickers_list = [x.replace('ک', 'ك') for x in tickers_list]\n",
    "tickers_list = [x.replace('ی', 'ي') for x in tickers_list]"
   ]
  },
  {
   "cell_type": "markdown",
   "id": "sonic-closure",
   "metadata": {},
   "source": [
    "# Calculate EMSI for each day"
   ]
  },
  {
   "cell_type": "code",
   "execution_count": 18,
   "id": "inner-union",
   "metadata": {},
   "outputs": [
    {
     "name": "stderr",
     "output_type": "stream",
     "text": [
      " 44%|███████████████████████████████████▎                                            | 175/396 [03:35<03:02,  1.21it/s]"
     ]
    },
    {
     "name": "stdout",
     "output_type": "stream",
     "text": [
      "An error for getting data for: آكنتور\n"
     ]
    },
    {
     "name": "stderr",
     "output_type": "stream",
     "text": [
      " 60%|███████████████████████████████████████████████▋                                | 236/396 [05:31<18:38,  6.99s/it]"
     ]
    },
    {
     "name": "stdout",
     "output_type": "stream",
     "text": [
      "An error for getting data for: مداران\n"
     ]
    },
    {
     "name": "stderr",
     "output_type": "stream",
     "text": [
      " 68%|██████████████████████████████████████████████████████▏                         | 268/396 [06:13<01:49,  1.17it/s]"
     ]
    },
    {
     "name": "stdout",
     "output_type": "stream",
     "text": [
      "An error for getting data for: سابيك\n"
     ]
    },
    {
     "name": "stderr",
     "output_type": "stream",
     "text": [
      " 71%|████████████████████████████████████████████████████████▌                       | 280/396 [06:26<02:32,  1.32s/it]"
     ]
    },
    {
     "name": "stdout",
     "output_type": "stream",
     "text": [
      "An error for getting data for: وانصار\n"
     ]
    },
    {
     "name": "stderr",
     "output_type": "stream",
     "text": [
      " 73%|██████████████████████████████████████████████████████████▍                     | 289/396 [06:38<03:31,  1.97s/it]"
     ]
    },
    {
     "name": "stdout",
     "output_type": "stream",
     "text": [
      "An error for getting data for: شجي\n"
     ]
    },
    {
     "name": "stderr",
     "output_type": "stream",
     "text": [
      " 74%|███████████████████████████████████████████████████████████▌                    | 295/396 [06:42<01:33,  1.08it/s]"
     ]
    },
    {
     "name": "stdout",
     "output_type": "stream",
     "text": [
      "An error for getting data for: ولكار\n"
     ]
    },
    {
     "name": "stderr",
     "output_type": "stream",
     "text": [
      "\r",
      " 75%|████████████████████████████████████████████████████████████                    | 297/396 [06:42<00:56,  1.75it/s]"
     ]
    },
    {
     "name": "stdout",
     "output_type": "stream",
     "text": [
      "An error for getting data for: ولنوين\n"
     ]
    },
    {
     "name": "stderr",
     "output_type": "stream",
     "text": [
      " 80%|███████████████████████████████████████████████████████████████▋                | 315/396 [06:54<00:29,  2.76it/s]"
     ]
    },
    {
     "name": "stdout",
     "output_type": "stream",
     "text": [
      "An error for getting data for: وسقزوين\n",
      "An error for getting data for: پرشيا\n"
     ]
    },
    {
     "name": "stderr",
     "output_type": "stream",
     "text": [
      "\r",
      " 80%|████████████████████████████████████████████████████████████████▏               | 318/396 [06:54<00:16,  4.87it/s]"
     ]
    },
    {
     "name": "stdout",
     "output_type": "stream",
     "text": [
      "An error for getting data for: وسمحال\n"
     ]
    },
    {
     "name": "stderr",
     "output_type": "stream",
     "text": [
      "\r",
      " 81%|████████████████████████████████████████████████████████████████▋               | 320/396 [06:55<00:18,  4.07it/s]"
     ]
    },
    {
     "name": "stdout",
     "output_type": "stream",
     "text": [
      "An error for getting data for: وسهرمز\n"
     ]
    },
    {
     "name": "stderr",
     "output_type": "stream",
     "text": [
      " 83%|██████████████████████████████████████████████████████████████████▋             | 330/396 [07:00<00:35,  1.85it/s]"
     ]
    },
    {
     "name": "stdout",
     "output_type": "stream",
     "text": [
      "An error for getting data for: وستهران\n"
     ]
    },
    {
     "name": "stderr",
     "output_type": "stream",
     "text": [
      "\r",
      " 84%|███████████████████████████████████████████████████████████████████             | 332/396 [07:01<00:23,  2.72it/s]"
     ]
    },
    {
     "name": "stdout",
     "output_type": "stream",
     "text": [
      "An error for getting data for: سينا\n"
     ]
    },
    {
     "name": "stderr",
     "output_type": "stream",
     "text": [
      " 85%|███████████████████████████████████████████████████████████████████▉            | 336/396 [07:06<00:51,  1.17it/s]"
     ]
    },
    {
     "name": "stdout",
     "output_type": "stream",
     "text": [
      "An error for getting data for: وسمنان\n"
     ]
    },
    {
     "name": "stderr",
     "output_type": "stream",
     "text": [
      " 88%|██████████████████████████████████████████████████████████████████████▋         | 350/396 [07:22<01:12,  1.58s/it]"
     ]
    },
    {
     "name": "stdout",
     "output_type": "stream",
     "text": [
      "An error for getting data for: مدار\n",
      "An error for getting data for: ثملي\n"
     ]
    },
    {
     "name": "stderr",
     "output_type": "stream",
     "text": [
      " 91%|████████████████████████████████████████████████████████████████████████▋       | 360/396 [07:24<00:09,  3.90it/s]"
     ]
    },
    {
     "name": "stdout",
     "output_type": "stream",
     "text": [
      "An error for getting data for: اروند\n",
      "An error for getting data for: برانسفو\n"
     ]
    },
    {
     "name": "stderr",
     "output_type": "stream",
     "text": [
      " 93%|██████████████████████████████████████████████████████████████████████████▏     | 367/396 [07:29<00:22,  1.29it/s]"
     ]
    },
    {
     "name": "stdout",
     "output_type": "stream",
     "text": [
      "An error for getting data for: ومعين\n"
     ]
    },
    {
     "name": "stderr",
     "output_type": "stream",
     "text": [
      " 94%|███████████████████████████████████████████████████████████████████████████▏    | 372/396 [07:34<00:22,  1.05it/s]"
     ]
    },
    {
     "name": "stdout",
     "output_type": "stream",
     "text": [
      "An error for getting data for: اپال\n",
      "An error for getting data for: انرژي\n"
     ]
    },
    {
     "name": "stderr",
     "output_type": "stream",
     "text": [
      " 95%|████████████████████████████████████████████████████████████████████████████▏   | 377/396 [07:39<00:16,  1.16it/s]"
     ]
    },
    {
     "name": "stdout",
     "output_type": "stream",
     "text": [
      "An error for getting data for: ومدير\n"
     ]
    },
    {
     "name": "stderr",
     "output_type": "stream",
     "text": [
      " 96%|████████████████████████████████████████████████████████████████████████████▊   | 380/396 [07:39<00:08,  1.98it/s]"
     ]
    },
    {
     "name": "stdout",
     "output_type": "stream",
     "text": [
      "An error for getting data for: تمدن\n",
      "An error for getting data for: آسياتك\n"
     ]
    },
    {
     "name": "stderr",
     "output_type": "stream",
     "text": [
      "100%|████████████████████████████████████████████████████████████████████████████████| 396/396 [07:43<00:00,  1.17s/it]"
     ]
    },
    {
     "name": "stdout",
     "output_type": "stream",
     "text": [
      "An error for getting data for: غكورش\n",
      "An error for getting data for: سپيد\n",
      "An error for getting data for: اجداد\n",
      "An error for getting data for: كيمياتك\n",
      "An error for getting data for: اردستان\n",
      "An error for getting data for: فسبزوار\n"
     ]
    },
    {
     "name": "stderr",
     "output_type": "stream",
     "text": [
      "\n"
     ]
    }
   ],
   "source": [
    "# get data for all stocks\n",
    "\n",
    "tickers_data = []\n",
    "\n",
    "for ticker in tqdm(tickers_list):\n",
    "    try:\n",
    "        tickers_data.append(get_data(ticker))\n",
    "    except:\n",
    "#         print('An error for getting data for:', ticker)\n",
    "        continue"
   ]
  },
  {
   "cell_type": "code",
   "execution_count": 123,
   "id": "latest-convenience",
   "metadata": {},
   "outputs": [],
   "source": [
    "EMSI = pd.DataFrame()\n",
    "for date in dates:\n",
    "    returns = []\n",
    "    historic_volatilities = []\n",
    "    for i in range(len(tickers_data)):\n",
    "        try:\n",
    "            returns.append(tickers_data[i].loc[date,'return'])\n",
    "            historic_volatilities.append(tickers_data[i].loc[date,'historic_volatility'])\n",
    "        except:\n",
    "            continue\n",
    "    # calculate Spearman rank correlation\n",
    "    emsi = 100 * stats.spearmanr(returns, historic_volatilities, nan_policy = 'omit').correlation\n",
    "    EMSI.loc[date, 'EMSI'] = emsi"
   ]
  },
  {
   "cell_type": "markdown",
   "id": "corrected-upset",
   "metadata": {},
   "source": [
    "## calculate five lags for EMSI"
   ]
  },
  {
   "cell_type": "code",
   "execution_count": 125,
   "id": "negative-quarterly",
   "metadata": {},
   "outputs": [],
   "source": [
    "for i in range(1,6):\n",
    "    column_name = 'EMSI_t_'+str(i)\n",
    "    EMSI[column_name] = EMSI['EMSI'].shift(i)"
   ]
  },
  {
   "cell_type": "code",
   "execution_count": 126,
   "id": "portuguese-efficiency",
   "metadata": {},
   "outputs": [
    {
     "data": {
      "text/html": [
       "<div>\n",
       "<style scoped>\n",
       "    .dataframe tbody tr th:only-of-type {\n",
       "        vertical-align: middle;\n",
       "    }\n",
       "\n",
       "    .dataframe tbody tr th {\n",
       "        vertical-align: top;\n",
       "    }\n",
       "\n",
       "    .dataframe thead th {\n",
       "        text-align: right;\n",
       "    }\n",
       "</style>\n",
       "<table border=\"1\" class=\"dataframe\">\n",
       "  <thead>\n",
       "    <tr style=\"text-align: right;\">\n",
       "      <th></th>\n",
       "      <th>EMSI</th>\n",
       "      <th>EMSI_t_1</th>\n",
       "      <th>EMSI_t_2</th>\n",
       "      <th>EMSI_t_3</th>\n",
       "      <th>EMSI_t_4</th>\n",
       "      <th>EMSI_t_5</th>\n",
       "    </tr>\n",
       "  </thead>\n",
       "  <tbody>\n",
       "    <tr>\n",
       "      <th>2018-03-25</th>\n",
       "      <td>4.086467</td>\n",
       "      <td>NaN</td>\n",
       "      <td>NaN</td>\n",
       "      <td>NaN</td>\n",
       "      <td>NaN</td>\n",
       "      <td>NaN</td>\n",
       "    </tr>\n",
       "    <tr>\n",
       "      <th>2018-03-26</th>\n",
       "      <td>-13.369033</td>\n",
       "      <td>4.086467</td>\n",
       "      <td>NaN</td>\n",
       "      <td>NaN</td>\n",
       "      <td>NaN</td>\n",
       "      <td>NaN</td>\n",
       "    </tr>\n",
       "    <tr>\n",
       "      <th>2018-03-27</th>\n",
       "      <td>-19.393749</td>\n",
       "      <td>-13.369033</td>\n",
       "      <td>4.086467</td>\n",
       "      <td>NaN</td>\n",
       "      <td>NaN</td>\n",
       "      <td>NaN</td>\n",
       "    </tr>\n",
       "    <tr>\n",
       "      <th>2018-03-28</th>\n",
       "      <td>6.531241</td>\n",
       "      <td>-19.393749</td>\n",
       "      <td>-13.369033</td>\n",
       "      <td>4.086467</td>\n",
       "      <td>NaN</td>\n",
       "      <td>NaN</td>\n",
       "    </tr>\n",
       "    <tr>\n",
       "      <th>2018-04-03</th>\n",
       "      <td>3.494083</td>\n",
       "      <td>6.531241</td>\n",
       "      <td>-19.393749</td>\n",
       "      <td>-13.369033</td>\n",
       "      <td>4.086467</td>\n",
       "      <td>NaN</td>\n",
       "    </tr>\n",
       "    <tr>\n",
       "      <th>...</th>\n",
       "      <td>...</td>\n",
       "      <td>...</td>\n",
       "      <td>...</td>\n",
       "      <td>...</td>\n",
       "      <td>...</td>\n",
       "      <td>...</td>\n",
       "    </tr>\n",
       "    <tr>\n",
       "      <th>2021-07-28</th>\n",
       "      <td>8.990273</td>\n",
       "      <td>-35.023972</td>\n",
       "      <td>0.181851</td>\n",
       "      <td>17.019668</td>\n",
       "      <td>-20.488508</td>\n",
       "      <td>-16.660694</td>\n",
       "    </tr>\n",
       "    <tr>\n",
       "      <th>2021-07-31</th>\n",
       "      <td>27.042136</td>\n",
       "      <td>8.990273</td>\n",
       "      <td>-35.023972</td>\n",
       "      <td>0.181851</td>\n",
       "      <td>17.019668</td>\n",
       "      <td>-20.488508</td>\n",
       "    </tr>\n",
       "    <tr>\n",
       "      <th>2021-08-01</th>\n",
       "      <td>11.127179</td>\n",
       "      <td>27.042136</td>\n",
       "      <td>8.990273</td>\n",
       "      <td>-35.023972</td>\n",
       "      <td>0.181851</td>\n",
       "      <td>17.019668</td>\n",
       "    </tr>\n",
       "    <tr>\n",
       "      <th>2021-08-02</th>\n",
       "      <td>1.729561</td>\n",
       "      <td>11.127179</td>\n",
       "      <td>27.042136</td>\n",
       "      <td>8.990273</td>\n",
       "      <td>-35.023972</td>\n",
       "      <td>0.181851</td>\n",
       "    </tr>\n",
       "    <tr>\n",
       "      <th>2021-08-03</th>\n",
       "      <td>-10.338946</td>\n",
       "      <td>1.729561</td>\n",
       "      <td>11.127179</td>\n",
       "      <td>27.042136</td>\n",
       "      <td>8.990273</td>\n",
       "      <td>-35.023972</td>\n",
       "    </tr>\n",
       "  </tbody>\n",
       "</table>\n",
       "<p>810 rows × 6 columns</p>\n",
       "</div>"
      ],
      "text/plain": [
       "                 EMSI   EMSI_t_1   EMSI_t_2   EMSI_t_3   EMSI_t_4   EMSI_t_5\n",
       "2018-03-25   4.086467        NaN        NaN        NaN        NaN        NaN\n",
       "2018-03-26 -13.369033   4.086467        NaN        NaN        NaN        NaN\n",
       "2018-03-27 -19.393749 -13.369033   4.086467        NaN        NaN        NaN\n",
       "2018-03-28   6.531241 -19.393749 -13.369033   4.086467        NaN        NaN\n",
       "2018-04-03   3.494083   6.531241 -19.393749 -13.369033   4.086467        NaN\n",
       "...               ...        ...        ...        ...        ...        ...\n",
       "2021-07-28   8.990273 -35.023972   0.181851  17.019668 -20.488508 -16.660694\n",
       "2021-07-31  27.042136   8.990273 -35.023972   0.181851  17.019668 -20.488508\n",
       "2021-08-01  11.127179  27.042136   8.990273 -35.023972   0.181851  17.019668\n",
       "2021-08-02   1.729561  11.127179  27.042136   8.990273 -35.023972   0.181851\n",
       "2021-08-03 -10.338946   1.729561  11.127179  27.042136   8.990273 -35.023972\n",
       "\n",
       "[810 rows x 6 columns]"
      ]
     },
     "execution_count": 126,
     "metadata": {},
     "output_type": "execute_result"
    }
   ],
   "source": [
    "EMSI"
   ]
  },
  {
   "cell_type": "markdown",
   "id": "bridal-document",
   "metadata": {},
   "source": [
    "# Plot EMSI"
   ]
  },
  {
   "cell_type": "code",
   "execution_count": 127,
   "id": "decent-scientist",
   "metadata": {},
   "outputs": [],
   "source": [
    "# time span\n",
    "start = '2019-03-25'\n",
    "end = '2020-03-19'\n",
    "time_delta = 14"
   ]
  },
  {
   "cell_type": "code",
   "execution_count": 128,
   "id": "later-skating",
   "metadata": {},
   "outputs": [],
   "source": [
    "# time ticks for plot\n",
    "gregorian_dates = []\n",
    "jalali_dates = []\n",
    "t = datetime.strptime(start, '%Y-%m-%d')\n",
    "while t < datetime.strptime(end, '%Y-%m-%d'):\n",
    "    gregorian_dates.append(t)\n",
    "    jalali_dates.append(JalaliDate(t).strftime('%Y-%m-%d'))\n",
    "    t = t + timedelta(time_delta)"
   ]
  },
  {
   "cell_type": "code",
   "execution_count": 129,
   "id": "younger-proposal",
   "metadata": {},
   "outputs": [
    {
     "data": {
      "image/png": "[encoded data removed]",
      "text/plain": [
       "<Figure size 504x720 with 1 Axes>"
      ]
     },
     "metadata": {
      "needs_background": "light"
     },
     "output_type": "display_data"
    }
   ],
   "source": [
    "# Figure Size\n",
    "fig, ax = plt.subplots(figsize =(7, 10))\n",
    "\n",
    "plt.xlabel('EMSI')\n",
    "plt.ylabel('Time')\n",
    "plt.title('Equity Market Sentiment Index')\n",
    "\n",
    "# Horizontal Bar Plot\n",
    "plt.barh(EMSI.loc[start:end].index,  EMSI.loc[start:end,'EMSI'], color ='maroon', height=2)\n",
    "\n",
    "# Set text labels\n",
    "plt.yticks(gregorian_dates, jalali_dates) \n",
    "\n",
    "plt.grid()"
   ]
  },
  {
   "cell_type": "markdown",
   "id": "civilian-release",
   "metadata": {},
   "source": [
    "# Concat EMSI and Index data"
   ]
  },
  {
   "cell_type": "code",
   "execution_count": 130,
   "id": "vocational-truck",
   "metadata": {},
   "outputs": [],
   "source": [
    "## start and end date:\n",
    "start = '2019-03-25'\n",
    "end = '2020-03-19'"
   ]
  },
  {
   "cell_type": "code",
   "execution_count": 131,
   "id": "nasty-burke",
   "metadata": {},
   "outputs": [
    {
     "data": {
      "text/html": [
       "<div>\n",
       "<style scoped>\n",
       "    .dataframe tbody tr th:only-of-type {\n",
       "        vertical-align: middle;\n",
       "    }\n",
       "\n",
       "    .dataframe tbody tr th {\n",
       "        vertical-align: top;\n",
       "    }\n",
       "\n",
       "    .dataframe thead th {\n",
       "        text-align: right;\n",
       "    }\n",
       "</style>\n",
       "<table border=\"1\" class=\"dataframe\">\n",
       "  <thead>\n",
       "    <tr style=\"text-align: right;\">\n",
       "      <th></th>\n",
       "      <th>index</th>\n",
       "      <th>index_return</th>\n",
       "      <th>index_return_t_1</th>\n",
       "      <th>index_return_t_2</th>\n",
       "      <th>index_return_t_3</th>\n",
       "      <th>index_return_t_4</th>\n",
       "      <th>index_return_t_5</th>\n",
       "      <th>index_return_t_6</th>\n",
       "      <th>EMSI</th>\n",
       "      <th>EMSI_t_1</th>\n",
       "      <th>EMSI_t_2</th>\n",
       "      <th>EMSI_t_3</th>\n",
       "      <th>EMSI_t_4</th>\n",
       "      <th>EMSI_t_5</th>\n",
       "    </tr>\n",
       "  </thead>\n",
       "  <tbody>\n",
       "    <tr>\n",
       "      <th>2019-03-25</th>\n",
       "      <td>179194.3</td>\n",
       "      <td>0.002996</td>\n",
       "      <td>0.015692</td>\n",
       "      <td>0.019569</td>\n",
       "      <td>0.008168</td>\n",
       "      <td>0.011882</td>\n",
       "      <td>0.007181</td>\n",
       "      <td>0.003217</td>\n",
       "      <td>2.778055</td>\n",
       "      <td>5.295179</td>\n",
       "      <td>14.159302</td>\n",
       "      <td>2.344073</td>\n",
       "      <td>0.346996</td>\n",
       "      <td>-0.334660</td>\n",
       "    </tr>\n",
       "    <tr>\n",
       "      <th>2019-03-26</th>\n",
       "      <td>179766.3</td>\n",
       "      <td>0.003192</td>\n",
       "      <td>0.002996</td>\n",
       "      <td>0.015692</td>\n",
       "      <td>0.019569</td>\n",
       "      <td>0.008168</td>\n",
       "      <td>0.011882</td>\n",
       "      <td>0.007181</td>\n",
       "      <td>13.474512</td>\n",
       "      <td>2.778055</td>\n",
       "      <td>5.295179</td>\n",
       "      <td>14.159302</td>\n",
       "      <td>2.344073</td>\n",
       "      <td>0.346996</td>\n",
       "    </tr>\n",
       "    <tr>\n",
       "      <th>2019-03-27</th>\n",
       "      <td>181542.4</td>\n",
       "      <td>0.009880</td>\n",
       "      <td>0.003192</td>\n",
       "      <td>0.002996</td>\n",
       "      <td>0.015692</td>\n",
       "      <td>0.019569</td>\n",
       "      <td>0.008168</td>\n",
       "      <td>0.011882</td>\n",
       "      <td>-8.174656</td>\n",
       "      <td>13.474512</td>\n",
       "      <td>2.778055</td>\n",
       "      <td>5.295179</td>\n",
       "      <td>14.159302</td>\n",
       "      <td>2.344073</td>\n",
       "    </tr>\n",
       "    <tr>\n",
       "      <th>2019-03-30</th>\n",
       "      <td>185358.0</td>\n",
       "      <td>0.021018</td>\n",
       "      <td>0.009880</td>\n",
       "      <td>0.003192</td>\n",
       "      <td>0.002996</td>\n",
       "      <td>0.015692</td>\n",
       "      <td>0.019569</td>\n",
       "      <td>0.008168</td>\n",
       "      <td>13.389566</td>\n",
       "      <td>-8.174656</td>\n",
       "      <td>13.474512</td>\n",
       "      <td>2.778055</td>\n",
       "      <td>5.295179</td>\n",
       "      <td>14.159302</td>\n",
       "    </tr>\n",
       "    <tr>\n",
       "      <th>2019-03-31</th>\n",
       "      <td>185281.4</td>\n",
       "      <td>-0.000413</td>\n",
       "      <td>0.021018</td>\n",
       "      <td>0.009880</td>\n",
       "      <td>0.003192</td>\n",
       "      <td>0.002996</td>\n",
       "      <td>0.015692</td>\n",
       "      <td>0.019569</td>\n",
       "      <td>-17.167348</td>\n",
       "      <td>13.389566</td>\n",
       "      <td>-8.174656</td>\n",
       "      <td>13.474512</td>\n",
       "      <td>2.778055</td>\n",
       "      <td>5.295179</td>\n",
       "    </tr>\n",
       "    <tr>\n",
       "      <th>...</th>\n",
       "      <td>...</td>\n",
       "      <td>...</td>\n",
       "      <td>...</td>\n",
       "      <td>...</td>\n",
       "      <td>...</td>\n",
       "      <td>...</td>\n",
       "      <td>...</td>\n",
       "      <td>...</td>\n",
       "      <td>...</td>\n",
       "      <td>...</td>\n",
       "      <td>...</td>\n",
       "      <td>...</td>\n",
       "      <td>...</td>\n",
       "      <td>...</td>\n",
       "    </tr>\n",
       "    <tr>\n",
       "      <th>2020-03-14</th>\n",
       "      <td>502738.9</td>\n",
       "      <td>-0.033587</td>\n",
       "      <td>0.000700</td>\n",
       "      <td>-0.027195</td>\n",
       "      <td>-0.026961</td>\n",
       "      <td>-0.010774</td>\n",
       "      <td>0.020084</td>\n",
       "      <td>0.028164</td>\n",
       "      <td>-29.824675</td>\n",
       "      <td>38.957384</td>\n",
       "      <td>-48.274189</td>\n",
       "      <td>-63.043209</td>\n",
       "      <td>-76.869024</td>\n",
       "      <td>6.990642</td>\n",
       "    </tr>\n",
       "    <tr>\n",
       "      <th>2020-03-15</th>\n",
       "      <td>494405.6</td>\n",
       "      <td>-0.016576</td>\n",
       "      <td>-0.033587</td>\n",
       "      <td>0.000700</td>\n",
       "      <td>-0.027195</td>\n",
       "      <td>-0.026961</td>\n",
       "      <td>-0.010774</td>\n",
       "      <td>0.020084</td>\n",
       "      <td>-34.172589</td>\n",
       "      <td>-29.824675</td>\n",
       "      <td>38.957384</td>\n",
       "      <td>-48.274189</td>\n",
       "      <td>-63.043209</td>\n",
       "      <td>-76.869024</td>\n",
       "    </tr>\n",
       "    <tr>\n",
       "      <th>2020-03-16</th>\n",
       "      <td>506079.3</td>\n",
       "      <td>0.023612</td>\n",
       "      <td>-0.016576</td>\n",
       "      <td>-0.033587</td>\n",
       "      <td>0.000700</td>\n",
       "      <td>-0.027195</td>\n",
       "      <td>-0.026961</td>\n",
       "      <td>-0.010774</td>\n",
       "      <td>63.489466</td>\n",
       "      <td>-34.172589</td>\n",
       "      <td>-29.824675</td>\n",
       "      <td>38.957384</td>\n",
       "      <td>-48.274189</td>\n",
       "      <td>-63.043209</td>\n",
       "    </tr>\n",
       "    <tr>\n",
       "      <th>2020-03-17</th>\n",
       "      <td>502425.9</td>\n",
       "      <td>-0.007219</td>\n",
       "      <td>0.023612</td>\n",
       "      <td>-0.016576</td>\n",
       "      <td>-0.033587</td>\n",
       "      <td>0.000700</td>\n",
       "      <td>-0.027195</td>\n",
       "      <td>-0.026961</td>\n",
       "      <td>-2.515866</td>\n",
       "      <td>63.489466</td>\n",
       "      <td>-34.172589</td>\n",
       "      <td>-29.824675</td>\n",
       "      <td>38.957384</td>\n",
       "      <td>-48.274189</td>\n",
       "    </tr>\n",
       "    <tr>\n",
       "      <th>2020-03-18</th>\n",
       "      <td>512900.5</td>\n",
       "      <td>0.020848</td>\n",
       "      <td>-0.007219</td>\n",
       "      <td>0.023612</td>\n",
       "      <td>-0.016576</td>\n",
       "      <td>-0.033587</td>\n",
       "      <td>0.000700</td>\n",
       "      <td>-0.027195</td>\n",
       "      <td>62.142684</td>\n",
       "      <td>-2.515866</td>\n",
       "      <td>63.489466</td>\n",
       "      <td>-34.172589</td>\n",
       "      <td>-29.824675</td>\n",
       "      <td>38.957384</td>\n",
       "    </tr>\n",
       "  </tbody>\n",
       "</table>\n",
       "<p>238 rows × 14 columns</p>\n",
       "</div>"
      ],
      "text/plain": [
       "               index  index_return  index_return_t_1  index_return_t_2  \\\n",
       "2019-03-25  179194.3      0.002996          0.015692          0.019569   \n",
       "2019-03-26  179766.3      0.003192          0.002996          0.015692   \n",
       "2019-03-27  181542.4      0.009880          0.003192          0.002996   \n",
       "2019-03-30  185358.0      0.021018          0.009880          0.003192   \n",
       "2019-03-31  185281.4     -0.000413          0.021018          0.009880   \n",
       "...              ...           ...               ...               ...   \n",
       "2020-03-14  502738.9     -0.033587          0.000700         -0.027195   \n",
       "2020-03-15  494405.6     -0.016576         -0.033587          0.000700   \n",
       "2020-03-16  506079.3      0.023612         -0.016576         -0.033587   \n",
       "2020-03-17  502425.9     -0.007219          0.023612         -0.016576   \n",
       "2020-03-18  512900.5      0.020848         -0.007219          0.023612   \n",
       "\n",
       "            index_return_t_3  index_return_t_4  index_return_t_5  \\\n",
       "2019-03-25          0.008168          0.011882          0.007181   \n",
       "2019-03-26          0.019569          0.008168          0.011882   \n",
       "2019-03-27          0.015692          0.019569          0.008168   \n",
       "2019-03-30          0.002996          0.015692          0.019569   \n",
       "2019-03-31          0.003192          0.002996          0.015692   \n",
       "...                      ...               ...               ...   \n",
       "2020-03-14         -0.026961         -0.010774          0.020084   \n",
       "2020-03-15         -0.027195         -0.026961         -0.010774   \n",
       "2020-03-16          0.000700         -0.027195         -0.026961   \n",
       "2020-03-17         -0.033587          0.000700         -0.027195   \n",
       "2020-03-18         -0.016576         -0.033587          0.000700   \n",
       "\n",
       "            index_return_t_6       EMSI   EMSI_t_1   EMSI_t_2   EMSI_t_3  \\\n",
       "2019-03-25          0.003217   2.778055   5.295179  14.159302   2.344073   \n",
       "2019-03-26          0.007181  13.474512   2.778055   5.295179  14.159302   \n",
       "2019-03-27          0.011882  -8.174656  13.474512   2.778055   5.295179   \n",
       "2019-03-30          0.008168  13.389566  -8.174656  13.474512   2.778055   \n",
       "2019-03-31          0.019569 -17.167348  13.389566  -8.174656  13.474512   \n",
       "...                      ...        ...        ...        ...        ...   \n",
       "2020-03-14          0.028164 -29.824675  38.957384 -48.274189 -63.043209   \n",
       "2020-03-15          0.020084 -34.172589 -29.824675  38.957384 -48.274189   \n",
       "2020-03-16         -0.010774  63.489466 -34.172589 -29.824675  38.957384   \n",
       "2020-03-17         -0.026961  -2.515866  63.489466 -34.172589 -29.824675   \n",
       "2020-03-18         -0.027195  62.142684  -2.515866  63.489466 -34.172589   \n",
       "\n",
       "             EMSI_t_4   EMSI_t_5  \n",
       "2019-03-25   0.346996  -0.334660  \n",
       "2019-03-26   2.344073   0.346996  \n",
       "2019-03-27  14.159302   2.344073  \n",
       "2019-03-30   5.295179  14.159302  \n",
       "2019-03-31   2.778055   5.295179  \n",
       "...               ...        ...  \n",
       "2020-03-14 -76.869024   6.990642  \n",
       "2020-03-15 -63.043209 -76.869024  \n",
       "2020-03-16 -48.274189 -63.043209  \n",
       "2020-03-17  38.957384 -48.274189  \n",
       "2020-03-18 -29.824675  38.957384  \n",
       "\n",
       "[238 rows x 14 columns]"
      ]
     },
     "execution_count": 131,
     "metadata": {},
     "output_type": "execute_result"
    }
   ],
   "source": [
    "# Concat two dataframe\n",
    "final = pd.concat([index.loc[start:end], EMSI.loc[start:end]], axis=1, join=\"inner\")\n",
    "# final.columns = ['EMSI', 'index', 'index_return']\n",
    "final"
   ]
  },
  {
   "cell_type": "markdown",
   "id": "latin-expert",
   "metadata": {},
   "source": [
    "# Risk categorisation of daily EMSI"
   ]
  },
  {
   "cell_type": "code",
   "execution_count": 132,
   "id": "critical-blank",
   "metadata": {},
   "outputs": [],
   "source": [
    "high_risk_a = (final['EMSI'] <= -30).sum()\n",
    "mod_risk_a = ((final['EMSI'] > -30) & (final['EMSI'] <= -10)).sum()\n",
    "risk_n =     ((final['EMSI'] > -10) & (final['EMSI'] <= 10)).sum()\n",
    "mod_risk_s = ((final['EMSI'] > 10) & (final['EMSI'] < 30)).sum()\n",
    "high_risk_s =(final['EMSI'] >= 30).sum()"
   ]
  },
  {
   "cell_type": "code",
   "execution_count": 133,
   "id": "serial-seminar",
   "metadata": {},
   "outputs": [],
   "source": [
    "risk_categories = pd.DataFrame({\n",
    "    \"Range of EMSI\" : ['−30 and below', '−10 to −30', '-10 to +10', '+10 to +30', '+30 and above'],\n",
    "    \"Category\" : ['Highly risk averse', 'Moderately risk averse', 'Risk neutral', 'Moderately risk seeking', 'Highly risk seeking'],\n",
    "    \"Number of days\" : [high_risk_a, mod_risk_a, risk_n, mod_risk_s, high_risk_s]\n",
    "})"
   ]
  },
  {
   "cell_type": "code",
   "execution_count": 134,
   "id": "republican-payroll",
   "metadata": {},
   "outputs": [
    {
     "data": {
      "text/html": [
       "<div>\n",
       "<style scoped>\n",
       "    .dataframe tbody tr th:only-of-type {\n",
       "        vertical-align: middle;\n",
       "    }\n",
       "\n",
       "    .dataframe tbody tr th {\n",
       "        vertical-align: top;\n",
       "    }\n",
       "\n",
       "    .dataframe thead th {\n",
       "        text-align: right;\n",
       "    }\n",
       "</style>\n",
       "<table border=\"1\" class=\"dataframe\">\n",
       "  <thead>\n",
       "    <tr style=\"text-align: right;\">\n",
       "      <th></th>\n",
       "      <th>Range of EMSI</th>\n",
       "      <th>Category</th>\n",
       "      <th>Number of days</th>\n",
       "    </tr>\n",
       "  </thead>\n",
       "  <tbody>\n",
       "    <tr>\n",
       "      <th>0</th>\n",
       "      <td>−30 and below</td>\n",
       "      <td>Highly risk averse</td>\n",
       "      <td>53</td>\n",
       "    </tr>\n",
       "    <tr>\n",
       "      <th>1</th>\n",
       "      <td>−10 to −30</td>\n",
       "      <td>Moderately risk averse</td>\n",
       "      <td>52</td>\n",
       "    </tr>\n",
       "    <tr>\n",
       "      <th>2</th>\n",
       "      <td>-10 to +10</td>\n",
       "      <td>Risk neutral</td>\n",
       "      <td>69</td>\n",
       "    </tr>\n",
       "    <tr>\n",
       "      <th>3</th>\n",
       "      <td>+10 to +30</td>\n",
       "      <td>Moderately risk seeking</td>\n",
       "      <td>41</td>\n",
       "    </tr>\n",
       "    <tr>\n",
       "      <th>4</th>\n",
       "      <td>+30 and above</td>\n",
       "      <td>Highly risk seeking</td>\n",
       "      <td>23</td>\n",
       "    </tr>\n",
       "  </tbody>\n",
       "</table>\n",
       "</div>"
      ],
      "text/plain": [
       "   Range of EMSI                 Category  Number of days\n",
       "0  −30 and below       Highly risk averse              53\n",
       "1     −10 to −30   Moderately risk averse              52\n",
       "2     -10 to +10             Risk neutral              69\n",
       "3     +10 to +30  Moderately risk seeking              41\n",
       "4  +30 and above      Highly risk seeking              23"
      ]
     },
     "execution_count": 134,
     "metadata": {},
     "output_type": "execute_result"
    }
   ],
   "source": [
    "risk_categories"
   ]
  },
  {
   "cell_type": "markdown",
   "id": "distinguished-bristol",
   "metadata": {},
   "source": [
    "# Run regression"
   ]
  },
  {
   "cell_type": "markdown",
   "id": "loose-laugh",
   "metadata": {},
   "source": [
    "## First Equation:"
   ]
  },
  {
   "cell_type": "code",
   "execution_count": 137,
   "id": "centered-dealing",
   "metadata": {},
   "outputs": [
    {
     "name": "stdout",
     "output_type": "stream",
     "text": [
      "                            OLS Regression Results                            \n",
      "==============================================================================\n",
      "Dep. Variable:           index_return   R-squared:                       0.272\n",
      "Model:                            OLS   Adj. R-squared:                  0.266\n",
      "Method:                 Least Squares   F-statistic:                     43.94\n",
      "Date:                Sun, 08 Aug 2021   Prob (F-statistic):           6.12e-17\n",
      "Time:                        11:40:28   Log-Likelihood:                 721.14\n",
      "No. Observations:                 238   AIC:                            -1436.\n",
      "Df Residuals:                     235   BIC:                            -1426.\n",
      "Df Model:                           2                                         \n",
      "Covariance Type:            nonrobust                                         \n",
      "====================================================================================\n",
      "                       coef    std err          t      P>|t|      [0.025      0.975]\n",
      "------------------------------------------------------------------------------------\n",
      "Intercept            0.0051      0.001      6.198      0.000       0.003       0.007\n",
      "index_return_t_1     0.2450      0.056      4.369      0.000       0.135       0.355\n",
      "EMSI                 0.0002   2.65e-05      8.723      0.000       0.000       0.000\n",
      "==============================================================================\n",
      "Omnibus:                       15.681   Durbin-Watson:                   1.790\n",
      "Prob(Omnibus):                  0.000   Jarque-Bera (JB):               25.248\n",
      "Skew:                          -0.397   Prob(JB):                     3.29e-06\n",
      "Kurtosis:                       4.384   Cond. No.                     2.19e+03\n",
      "==============================================================================\n",
      "\n",
      "Notes:\n",
      "[1] Standard Errors assume that the covariance matrix of the errors is correctly specified.\n",
      "[2] The condition number is large, 2.19e+03. This might indicate that there are\n",
      "strong multicollinearity or other numerical problems.\n"
     ]
    }
   ],
   "source": [
    "mod1 = smf.ols(formula='index_return ~ index_return_t_1 + EMSI ', data=final).fit()\n",
    "print(mod1.summary())"
   ]
  },
  {
   "cell_type": "markdown",
   "id": "adult-amount",
   "metadata": {},
   "source": [
    "## Second Equation:"
   ]
  },
  {
   "cell_type": "code",
   "execution_count": 138,
   "id": "foster-sterling",
   "metadata": {},
   "outputs": [
    {
     "name": "stdout",
     "output_type": "stream",
     "text": [
      "                            OLS Regression Results                            \n",
      "==============================================================================\n",
      "Dep. Variable:           index_return   R-squared:                       0.453\n",
      "Model:                            OLS   Adj. R-squared:                  0.424\n",
      "Method:                 Least Squares   F-statistic:                     15.53\n",
      "Date:                Sun, 08 Aug 2021   Prob (F-statistic):           1.16e-23\n",
      "Time:                        11:40:28   Log-Likelihood:                 755.12\n",
      "No. Observations:                 238   AIC:                            -1484.\n",
      "Df Residuals:                     225   BIC:                            -1439.\n",
      "Df Model:                          12                                         \n",
      "Covariance Type:            nonrobust                                         \n",
      "====================================================================================\n",
      "                       coef    std err          t      P>|t|      [0.025      0.975]\n",
      "------------------------------------------------------------------------------------\n",
      "Intercept            0.0022      0.001      2.349      0.020       0.000       0.004\n",
      "index_return_t_1     0.4823      0.067      7.185      0.000       0.350       0.615\n",
      "index_return_t_2     0.0105      0.075      0.141      0.888      -0.137       0.158\n",
      "index_return_t_3     0.2411      0.074      3.257      0.001       0.095       0.387\n",
      "index_return_t_4     0.0167      0.077      0.217      0.828      -0.135       0.168\n",
      "index_return_t_5    -0.0431      0.075     -0.575      0.566      -0.191       0.105\n",
      "index_return_t_6     0.0809      0.063      1.276      0.203      -0.044       0.206\n",
      "EMSI                 0.0004    3.2e-05     12.020      0.000       0.000       0.000\n",
      "EMSI_t_1            -0.0002   4.31e-05     -5.573      0.000      -0.000      -0.000\n",
      "EMSI_t_2             0.0001   4.47e-05      3.022      0.003     4.7e-05       0.000\n",
      "EMSI_t_3            -0.0001   4.23e-05     -2.455      0.015      -0.000   -2.05e-05\n",
      "EMSI_t_4             0.0001   4.31e-05      2.502      0.013    2.29e-05       0.000\n",
      "EMSI_t_5            -0.0001   3.47e-05     -2.974      0.003      -0.000   -3.49e-05\n",
      "==============================================================================\n",
      "Omnibus:                       18.996   Durbin-Watson:                   2.038\n",
      "Prob(Omnibus):                  0.000   Jarque-Bera (JB):               41.375\n",
      "Skew:                          -0.363   Prob(JB):                     1.04e-09\n",
      "Kurtosis:                       4.909   Cond. No.                     5.86e+03\n",
      "==============================================================================\n",
      "\n",
      "Notes:\n",
      "[1] Standard Errors assume that the covariance matrix of the errors is correctly specified.\n",
      "[2] The condition number is large, 5.86e+03. This might indicate that there are\n",
      "strong multicollinearity or other numerical problems.\n"
     ]
    }
   ],
   "source": [
    "mod2 = smf.ols(formula='index_return ~ index_return_t_1 + index_return_t_2 + index_return_t_3 + index_return_t_4 + index_return_t_5 + index_return_t_6 + EMSI + EMSI_t_1 + EMSI_t_2 + EMSI_t_3 + EMSI_t_4 + EMSI_t_5',\n",
    "              data=final).fit()\n",
    "print(mod2.summary())"
   ]
  }
 ],
 "metadata": {
  "kernelspec": {
   "display_name": "Python 3",
   "language": "python",
   "name": "python3"
  },
  "language_info": {
   "codemirror_mode": {
    "name": "ipython",
    "version": 3
   },
   "file_extension": ".py",
   "mimetype": "text/x-python",
   "name": "python",
   "nbconvert_exporter": "python",
   "pygments_lexer": "ipython3",
   "version": "3.9.2"
  }
 },
 "nbformat": 4,
 "nbformat_minor": 5
}
